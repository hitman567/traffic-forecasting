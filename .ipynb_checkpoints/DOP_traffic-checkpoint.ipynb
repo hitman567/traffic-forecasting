{
 "cells": [
  {
   "cell_type": "code",
   "execution_count": 1,
   "metadata": {},
   "outputs": [],
   "source": [
    "import numpy as np\n",
    "import pandas as pd\n",
    "import seaborn as sns\n",
    "import matplotlib.pyplot as plt\n",
    "%matplotlib inline"
   ]
  },
  {
   "cell_type": "code",
   "execution_count": 2,
   "metadata": {},
   "outputs": [],
   "source": [
    "data = pd.read_csv('traffic_data.csv')"
   ]
  },
  {
   "cell_type": "code",
   "execution_count": 3,
   "metadata": {},
   "outputs": [
    {
     "data": {
      "text/html": [
       "<div>\n",
       "<style scoped>\n",
       "    .dataframe tbody tr th:only-of-type {\n",
       "        vertical-align: middle;\n",
       "    }\n",
       "\n",
       "    .dataframe tbody tr th {\n",
       "        vertical-align: top;\n",
       "    }\n",
       "\n",
       "    .dataframe thead th {\n",
       "        text-align: right;\n",
       "    }\n",
       "</style>\n",
       "<table border=\"1\" class=\"dataframe\">\n",
       "  <thead>\n",
       "    <tr style=\"text-align: right;\">\n",
       "      <th></th>\n",
       "      <th>Date</th>\n",
       "      <th>Jadcherla L1 Total traffic</th>\n",
       "      <th>Jadcherla L1 trucks and buses traffic</th>\n",
       "      <th>Jadcherla L1 multi-axial traffic</th>\n",
       "      <th>Jadcherla L2 Total traffic</th>\n",
       "      <th>Jadcherla L2 trucks and buses traffic</th>\n",
       "      <th>Jadcherla L2 multi-axial traffic</th>\n",
       "      <th>Sher Mohamad L1 Total traffic</th>\n",
       "      <th>Sher Mohamad L1 trucks and buses traffic</th>\n",
       "      <th>Sher Mohamad L1 multi-axial traffic</th>\n",
       "      <th>Sher Mohamad L2 Total traffic</th>\n",
       "      <th>Sher Mohamad L2 trucks and buses traffic</th>\n",
       "      <th>Sher Mohamad L2 multi-axial traffic</th>\n",
       "      <th>Guntur L1 Total traffic</th>\n",
       "      <th>Guntur L1 trucks and buses traffic</th>\n",
       "      <th>Guntur L1 multi-axial traffic</th>\n",
       "      <th>Guntur L2 Total traffic</th>\n",
       "      <th>Guntur L2 trucks and buses traffic</th>\n",
       "      <th>Guntur L2 multi-axial traffic</th>\n",
       "    </tr>\n",
       "  </thead>\n",
       "  <tbody>\n",
       "    <tr>\n",
       "      <th>0</th>\n",
       "      <td>01-11-95</td>\n",
       "      <td>2365</td>\n",
       "      <td>1618</td>\n",
       "      <td>76</td>\n",
       "      <td>2410</td>\n",
       "      <td>1660</td>\n",
       "      <td>99</td>\n",
       "      <td>2279</td>\n",
       "      <td>1408</td>\n",
       "      <td>80</td>\n",
       "      <td>2356</td>\n",
       "      <td>1447</td>\n",
       "      <td>132</td>\n",
       "      <td>5091</td>\n",
       "      <td>2832</td>\n",
       "      <td>224</td>\n",
       "      <td>5005</td>\n",
       "      <td>3233</td>\n",
       "      <td>240</td>\n",
       "    </tr>\n",
       "    <tr>\n",
       "      <th>1</th>\n",
       "      <td>02-11-95</td>\n",
       "      <td>2529</td>\n",
       "      <td>1750</td>\n",
       "      <td>114</td>\n",
       "      <td>2422</td>\n",
       "      <td>1732</td>\n",
       "      <td>116</td>\n",
       "      <td>2283</td>\n",
       "      <td>1454</td>\n",
       "      <td>75</td>\n",
       "      <td>2342</td>\n",
       "      <td>1461</td>\n",
       "      <td>159</td>\n",
       "      <td>5112</td>\n",
       "      <td>3031</td>\n",
       "      <td>271</td>\n",
       "      <td>5164</td>\n",
       "      <td>3548</td>\n",
       "      <td>191</td>\n",
       "    </tr>\n",
       "    <tr>\n",
       "      <th>2</th>\n",
       "      <td>03-11-95</td>\n",
       "      <td>2459</td>\n",
       "      <td>1657</td>\n",
       "      <td>96</td>\n",
       "      <td>2406</td>\n",
       "      <td>1653</td>\n",
       "      <td>128</td>\n",
       "      <td>2381</td>\n",
       "      <td>1538</td>\n",
       "      <td>100</td>\n",
       "      <td>1956</td>\n",
       "      <td>1262</td>\n",
       "      <td>141</td>\n",
       "      <td>5011</td>\n",
       "      <td>3227</td>\n",
       "      <td>246</td>\n",
       "      <td>5084</td>\n",
       "      <td>3300</td>\n",
       "      <td>275</td>\n",
       "    </tr>\n",
       "    <tr>\n",
       "      <th>3</th>\n",
       "      <td>04-11-95</td>\n",
       "      <td>2517</td>\n",
       "      <td>1717</td>\n",
       "      <td>111</td>\n",
       "      <td>2388</td>\n",
       "      <td>1543</td>\n",
       "      <td>105</td>\n",
       "      <td>2104</td>\n",
       "      <td>1403</td>\n",
       "      <td>61</td>\n",
       "      <td>2196</td>\n",
       "      <td>1335</td>\n",
       "      <td>121</td>\n",
       "      <td>5090</td>\n",
       "      <td>3471</td>\n",
       "      <td>321</td>\n",
       "      <td>5056</td>\n",
       "      <td>3202</td>\n",
       "      <td>258</td>\n",
       "    </tr>\n",
       "    <tr>\n",
       "      <th>4</th>\n",
       "      <td>05-11-95</td>\n",
       "      <td>2380</td>\n",
       "      <td>1478</td>\n",
       "      <td>136</td>\n",
       "      <td>2469</td>\n",
       "      <td>1711</td>\n",
       "      <td>104</td>\n",
       "      <td>2047</td>\n",
       "      <td>1257</td>\n",
       "      <td>78</td>\n",
       "      <td>2072</td>\n",
       "      <td>1336</td>\n",
       "      <td>129</td>\n",
       "      <td>5316</td>\n",
       "      <td>3578</td>\n",
       "      <td>303</td>\n",
       "      <td>5164</td>\n",
       "      <td>3197</td>\n",
       "      <td>253</td>\n",
       "    </tr>\n",
       "  </tbody>\n",
       "</table>\n",
       "</div>"
      ],
      "text/plain": [
       "       Date  Jadcherla L1 Total traffic  \\\n",
       "0  01-11-95                        2365   \n",
       "1  02-11-95                        2529   \n",
       "2  03-11-95                        2459   \n",
       "3  04-11-95                        2517   \n",
       "4  05-11-95                        2380   \n",
       "\n",
       "   Jadcherla L1 trucks and buses traffic  Jadcherla L1 multi-axial traffic  \\\n",
       "0                                   1618                                76   \n",
       "1                                   1750                               114   \n",
       "2                                   1657                                96   \n",
       "3                                   1717                               111   \n",
       "4                                   1478                               136   \n",
       "\n",
       "   Jadcherla L2 Total traffic  Jadcherla L2 trucks and buses traffic  \\\n",
       "0                        2410                                   1660   \n",
       "1                        2422                                   1732   \n",
       "2                        2406                                   1653   \n",
       "3                        2388                                   1543   \n",
       "4                        2469                                   1711   \n",
       "\n",
       "   Jadcherla L2 multi-axial traffic  Sher Mohamad L1 Total traffic  \\\n",
       "0                                99                           2279   \n",
       "1                               116                           2283   \n",
       "2                               128                           2381   \n",
       "3                               105                           2104   \n",
       "4                               104                           2047   \n",
       "\n",
       "   Sher Mohamad L1 trucks and buses traffic  \\\n",
       "0                                      1408   \n",
       "1                                      1454   \n",
       "2                                      1538   \n",
       "3                                      1403   \n",
       "4                                      1257   \n",
       "\n",
       "   Sher Mohamad L1 multi-axial traffic  Sher Mohamad L2 Total traffic  \\\n",
       "0                                   80                           2356   \n",
       "1                                   75                           2342   \n",
       "2                                  100                           1956   \n",
       "3                                   61                           2196   \n",
       "4                                   78                           2072   \n",
       "\n",
       "   Sher Mohamad L2 trucks and buses traffic  \\\n",
       "0                                      1447   \n",
       "1                                      1461   \n",
       "2                                      1262   \n",
       "3                                      1335   \n",
       "4                                      1336   \n",
       "\n",
       "   Sher Mohamad L2 multi-axial traffic  Guntur L1 Total traffic  \\\n",
       "0                                  132                     5091   \n",
       "1                                  159                     5112   \n",
       "2                                  141                     5011   \n",
       "3                                  121                     5090   \n",
       "4                                  129                     5316   \n",
       "\n",
       "   Guntur L1 trucks and buses traffic  Guntur L1 multi-axial traffic  \\\n",
       "0                                2832                            224   \n",
       "1                                3031                            271   \n",
       "2                                3227                            246   \n",
       "3                                3471                            321   \n",
       "4                                3578                            303   \n",
       "\n",
       "   Guntur L2 Total traffic  Guntur L2 trucks and buses traffic  \\\n",
       "0                     5005                                3233   \n",
       "1                     5164                                3548   \n",
       "2                     5084                                3300   \n",
       "3                     5056                                3202   \n",
       "4                     5164                                3197   \n",
       "\n",
       "   Guntur L2 multi-axial traffic  \n",
       "0                            240  \n",
       "1                            191  \n",
       "2                            275  \n",
       "3                            258  \n",
       "4                            253  "
      ]
     },
     "execution_count": 3,
     "metadata": {},
     "output_type": "execute_result"
    }
   ],
   "source": [
    "data.head()"
   ]
  },
  {
   "cell_type": "code",
   "execution_count": 4,
   "metadata": {},
   "outputs": [],
   "source": [
    "data1 = data[['Jadcherla L1 Total traffic','Jadcherla L1 trucks and buses traffic','Jadcherla L1 multi-axial traffic']]"
   ]
  },
  {
   "cell_type": "code",
   "execution_count": 5,
   "metadata": {},
   "outputs": [
    {
     "data": {
      "text/html": [
       "<div>\n",
       "<style scoped>\n",
       "    .dataframe tbody tr th:only-of-type {\n",
       "        vertical-align: middle;\n",
       "    }\n",
       "\n",
       "    .dataframe tbody tr th {\n",
       "        vertical-align: top;\n",
       "    }\n",
       "\n",
       "    .dataframe thead th {\n",
       "        text-align: right;\n",
       "    }\n",
       "</style>\n",
       "<table border=\"1\" class=\"dataframe\">\n",
       "  <thead>\n",
       "    <tr style=\"text-align: right;\">\n",
       "      <th></th>\n",
       "      <th>Jadcherla L1 Total traffic</th>\n",
       "      <th>Jadcherla L1 trucks and buses traffic</th>\n",
       "      <th>Jadcherla L1 multi-axial traffic</th>\n",
       "    </tr>\n",
       "  </thead>\n",
       "  <tbody>\n",
       "    <tr>\n",
       "      <th>0</th>\n",
       "      <td>2365</td>\n",
       "      <td>1618</td>\n",
       "      <td>76</td>\n",
       "    </tr>\n",
       "    <tr>\n",
       "      <th>1</th>\n",
       "      <td>2529</td>\n",
       "      <td>1750</td>\n",
       "      <td>114</td>\n",
       "    </tr>\n",
       "    <tr>\n",
       "      <th>2</th>\n",
       "      <td>2459</td>\n",
       "      <td>1657</td>\n",
       "      <td>96</td>\n",
       "    </tr>\n",
       "    <tr>\n",
       "      <th>3</th>\n",
       "      <td>2517</td>\n",
       "      <td>1717</td>\n",
       "      <td>111</td>\n",
       "    </tr>\n",
       "    <tr>\n",
       "      <th>4</th>\n",
       "      <td>2380</td>\n",
       "      <td>1478</td>\n",
       "      <td>136</td>\n",
       "    </tr>\n",
       "  </tbody>\n",
       "</table>\n",
       "</div>"
      ],
      "text/plain": [
       "   Jadcherla L1 Total traffic  Jadcherla L1 trucks and buses traffic  \\\n",
       "0                        2365                                   1618   \n",
       "1                        2529                                   1750   \n",
       "2                        2459                                   1657   \n",
       "3                        2517                                   1717   \n",
       "4                        2380                                   1478   \n",
       "\n",
       "   Jadcherla L1 multi-axial traffic  \n",
       "0                                76  \n",
       "1                               114  \n",
       "2                                96  \n",
       "3                               111  \n",
       "4                               136  "
      ]
     },
     "execution_count": 5,
     "metadata": {},
     "output_type": "execute_result"
    }
   ],
   "source": [
    "data1.head()"
   ]
  },
  {
   "cell_type": "code",
   "execution_count": 6,
   "metadata": {},
   "outputs": [
    {
     "data": {
      "text/plain": [
       "Date                                        792\n",
       "Jadcherla L1 Total traffic                  792\n",
       "Jadcherla L1 trucks and buses traffic       792\n",
       "Jadcherla L1 multi-axial traffic            792\n",
       "Jadcherla L2 Total traffic                  792\n",
       "Jadcherla L2 trucks and buses traffic       792\n",
       "Jadcherla L2 multi-axial traffic            792\n",
       "Sher Mohamad L1 Total traffic               792\n",
       "Sher Mohamad L1 trucks and buses traffic    792\n",
       "Sher Mohamad L1 multi-axial traffic         792\n",
       "Sher Mohamad L2 Total traffic               792\n",
       "Sher Mohamad L2 trucks and buses traffic    792\n",
       "Sher Mohamad L2 multi-axial traffic         792\n",
       "Guntur L1 Total traffic                     792\n",
       "Guntur L1 trucks and buses traffic          792\n",
       "Guntur L1 multi-axial traffic               792\n",
       "Guntur L2 Total traffic                     792\n",
       "Guntur L2 trucks and buses traffic          792\n",
       "Guntur L2 multi-axial traffic               792\n",
       "dtype: int64"
      ]
     },
     "execution_count": 6,
     "metadata": {},
     "output_type": "execute_result"
    }
   ],
   "source": [
    "data.count()"
   ]
  },
  {
   "cell_type": "code",
   "execution_count": 7,
   "metadata": {},
   "outputs": [
    {
     "data": {
      "text/html": [
       "<div>\n",
       "<style scoped>\n",
       "    .dataframe tbody tr th:only-of-type {\n",
       "        vertical-align: middle;\n",
       "    }\n",
       "\n",
       "    .dataframe tbody tr th {\n",
       "        vertical-align: top;\n",
       "    }\n",
       "\n",
       "    .dataframe thead th {\n",
       "        text-align: right;\n",
       "    }\n",
       "</style>\n",
       "<table border=\"1\" class=\"dataframe\">\n",
       "  <thead>\n",
       "    <tr style=\"text-align: right;\">\n",
       "      <th></th>\n",
       "      <th>Date</th>\n",
       "      <th>Jadcherla L1 Total traffic</th>\n",
       "      <th>Jadcherla L1 trucks and buses traffic</th>\n",
       "      <th>Jadcherla L1 multi-axial traffic</th>\n",
       "      <th>Jadcherla L2 Total traffic</th>\n",
       "      <th>Jadcherla L2 trucks and buses traffic</th>\n",
       "      <th>Jadcherla L2 multi-axial traffic</th>\n",
       "      <th>Sher Mohamad L1 Total traffic</th>\n",
       "      <th>Sher Mohamad L1 trucks and buses traffic</th>\n",
       "      <th>Sher Mohamad L1 multi-axial traffic</th>\n",
       "      <th>Sher Mohamad L2 Total traffic</th>\n",
       "      <th>Sher Mohamad L2 trucks and buses traffic</th>\n",
       "      <th>Sher Mohamad L2 multi-axial traffic</th>\n",
       "      <th>Guntur L1 Total traffic</th>\n",
       "      <th>Guntur L1 trucks and buses traffic</th>\n",
       "      <th>Guntur L1 multi-axial traffic</th>\n",
       "      <th>Guntur L2 Total traffic</th>\n",
       "      <th>Guntur L2 trucks and buses traffic</th>\n",
       "      <th>Guntur L2 multi-axial traffic</th>\n",
       "    </tr>\n",
       "  </thead>\n",
       "  <tbody>\n",
       "    <tr>\n",
       "      <th>787</th>\n",
       "      <td>27-12-97</td>\n",
       "      <td>3992</td>\n",
       "      <td>2679</td>\n",
       "      <td>156</td>\n",
       "      <td>3514</td>\n",
       "      <td>2270</td>\n",
       "      <td>179</td>\n",
       "      <td>3136</td>\n",
       "      <td>2145</td>\n",
       "      <td>179</td>\n",
       "      <td>3468</td>\n",
       "      <td>2240</td>\n",
       "      <td>222</td>\n",
       "      <td>4536</td>\n",
       "      <td>2835</td>\n",
       "      <td>150</td>\n",
       "      <td>4817</td>\n",
       "      <td>3112</td>\n",
       "      <td>130</td>\n",
       "    </tr>\n",
       "    <tr>\n",
       "      <th>788</th>\n",
       "      <td>28-12-97</td>\n",
       "      <td>3869</td>\n",
       "      <td>2434</td>\n",
       "      <td>120</td>\n",
       "      <td>3338</td>\n",
       "      <td>2297</td>\n",
       "      <td>154</td>\n",
       "      <td>3180</td>\n",
       "      <td>2204</td>\n",
       "      <td>216</td>\n",
       "      <td>3763</td>\n",
       "      <td>2487</td>\n",
       "      <td>158</td>\n",
       "      <td>4977</td>\n",
       "      <td>3340</td>\n",
       "      <td>214</td>\n",
       "      <td>4923</td>\n",
       "      <td>3260</td>\n",
       "      <td>180</td>\n",
       "    </tr>\n",
       "    <tr>\n",
       "      <th>789</th>\n",
       "      <td>29-12-97</td>\n",
       "      <td>3634</td>\n",
       "      <td>2533</td>\n",
       "      <td>171</td>\n",
       "      <td>3519</td>\n",
       "      <td>2256</td>\n",
       "      <td>187</td>\n",
       "      <td>3235</td>\n",
       "      <td>2184</td>\n",
       "      <td>152</td>\n",
       "      <td>3586</td>\n",
       "      <td>2421</td>\n",
       "      <td>226</td>\n",
       "      <td>5315</td>\n",
       "      <td>3481</td>\n",
       "      <td>218</td>\n",
       "      <td>4796</td>\n",
       "      <td>2998</td>\n",
       "      <td>187</td>\n",
       "    </tr>\n",
       "    <tr>\n",
       "      <th>790</th>\n",
       "      <td>30-12-97</td>\n",
       "      <td>3654</td>\n",
       "      <td>2265</td>\n",
       "      <td>139</td>\n",
       "      <td>3485</td>\n",
       "      <td>2189</td>\n",
       "      <td>160</td>\n",
       "      <td>3260</td>\n",
       "      <td>2165</td>\n",
       "      <td>183</td>\n",
       "      <td>3822</td>\n",
       "      <td>2607</td>\n",
       "      <td>233</td>\n",
       "      <td>5283</td>\n",
       "      <td>3392</td>\n",
       "      <td>248</td>\n",
       "      <td>5083</td>\n",
       "      <td>3426</td>\n",
       "      <td>137</td>\n",
       "    </tr>\n",
       "    <tr>\n",
       "      <th>791</th>\n",
       "      <td>31-12-97</td>\n",
       "      <td>3654</td>\n",
       "      <td>2265</td>\n",
       "      <td>139</td>\n",
       "      <td>3724</td>\n",
       "      <td>2432</td>\n",
       "      <td>153</td>\n",
       "      <td>3159</td>\n",
       "      <td>2142</td>\n",
       "      <td>183</td>\n",
       "      <td>3498</td>\n",
       "      <td>2259</td>\n",
       "      <td>196</td>\n",
       "      <td>5027</td>\n",
       "      <td>3454</td>\n",
       "      <td>211</td>\n",
       "      <td>4981</td>\n",
       "      <td>3292</td>\n",
       "      <td>120</td>\n",
       "    </tr>\n",
       "  </tbody>\n",
       "</table>\n",
       "</div>"
      ],
      "text/plain": [
       "         Date  Jadcherla L1 Total traffic  \\\n",
       "787  27-12-97                        3992   \n",
       "788  28-12-97                        3869   \n",
       "789  29-12-97                        3634   \n",
       "790  30-12-97                        3654   \n",
       "791  31-12-97                        3654   \n",
       "\n",
       "     Jadcherla L1 trucks and buses traffic  Jadcherla L1 multi-axial traffic  \\\n",
       "787                                   2679                               156   \n",
       "788                                   2434                               120   \n",
       "789                                   2533                               171   \n",
       "790                                   2265                               139   \n",
       "791                                   2265                               139   \n",
       "\n",
       "     Jadcherla L2 Total traffic  Jadcherla L2 trucks and buses traffic  \\\n",
       "787                        3514                                   2270   \n",
       "788                        3338                                   2297   \n",
       "789                        3519                                   2256   \n",
       "790                        3485                                   2189   \n",
       "791                        3724                                   2432   \n",
       "\n",
       "     Jadcherla L2 multi-axial traffic  Sher Mohamad L1 Total traffic  \\\n",
       "787                               179                           3136   \n",
       "788                               154                           3180   \n",
       "789                               187                           3235   \n",
       "790                               160                           3260   \n",
       "791                               153                           3159   \n",
       "\n",
       "     Sher Mohamad L1 trucks and buses traffic  \\\n",
       "787                                      2145   \n",
       "788                                      2204   \n",
       "789                                      2184   \n",
       "790                                      2165   \n",
       "791                                      2142   \n",
       "\n",
       "     Sher Mohamad L1 multi-axial traffic  Sher Mohamad L2 Total traffic  \\\n",
       "787                                  179                           3468   \n",
       "788                                  216                           3763   \n",
       "789                                  152                           3586   \n",
       "790                                  183                           3822   \n",
       "791                                  183                           3498   \n",
       "\n",
       "     Sher Mohamad L2 trucks and buses traffic  \\\n",
       "787                                      2240   \n",
       "788                                      2487   \n",
       "789                                      2421   \n",
       "790                                      2607   \n",
       "791                                      2259   \n",
       "\n",
       "     Sher Mohamad L2 multi-axial traffic  Guntur L1 Total traffic  \\\n",
       "787                                  222                     4536   \n",
       "788                                  158                     4977   \n",
       "789                                  226                     5315   \n",
       "790                                  233                     5283   \n",
       "791                                  196                     5027   \n",
       "\n",
       "     Guntur L1 trucks and buses traffic  Guntur L1 multi-axial traffic  \\\n",
       "787                                2835                            150   \n",
       "788                                3340                            214   \n",
       "789                                3481                            218   \n",
       "790                                3392                            248   \n",
       "791                                3454                            211   \n",
       "\n",
       "     Guntur L2 Total traffic  Guntur L2 trucks and buses traffic  \\\n",
       "787                     4817                                3112   \n",
       "788                     4923                                3260   \n",
       "789                     4796                                2998   \n",
       "790                     5083                                3426   \n",
       "791                     4981                                3292   \n",
       "\n",
       "     Guntur L2 multi-axial traffic  \n",
       "787                            130  \n",
       "788                            180  \n",
       "789                            187  \n",
       "790                            137  \n",
       "791                            120  "
      ]
     },
     "execution_count": 7,
     "metadata": {},
     "output_type": "execute_result"
    }
   ],
   "source": [
    "data.tail()"
   ]
  },
  {
   "cell_type": "code",
   "execution_count": 8,
   "metadata": {},
   "outputs": [],
   "source": [
    "# rng = pd.DataFrame()"
   ]
  },
  {
   "cell_type": "code",
   "execution_count": 9,
   "metadata": {},
   "outputs": [],
   "source": [
    "# rng.head()"
   ]
  },
  {
   "cell_type": "code",
   "execution_count": 10,
   "metadata": {},
   "outputs": [],
   "source": [
    "# rng['date'] = pd.date_range('11/01/1995','31/12/1997')"
   ]
  },
  {
   "cell_type": "code",
   "execution_count": 11,
   "metadata": {},
   "outputs": [],
   "source": [
    "# rng.head()"
   ]
  },
  {
   "cell_type": "code",
   "execution_count": 12,
   "metadata": {},
   "outputs": [],
   "source": [
    "# rng.tail()"
   ]
  },
  {
   "cell_type": "code",
   "execution_count": 13,
   "metadata": {},
   "outputs": [],
   "source": [
    "# rng['year'] = rng['date'].dt.year\n",
    "# rng['month'] = rng['date'].dt.month\n",
    "# rng['day'] = rng['date'].dt.day"
   ]
  },
  {
   "cell_type": "code",
   "execution_count": 14,
   "metadata": {},
   "outputs": [],
   "source": [
    "# rng.head()"
   ]
  },
  {
   "cell_type": "code",
   "execution_count": 15,
   "metadata": {},
   "outputs": [],
   "source": [
    "# rng.drop('date',axis=1)"
   ]
  },
  {
   "cell_type": "code",
   "execution_count": 16,
   "metadata": {},
   "outputs": [
    {
     "name": "stderr",
     "output_type": "stream",
     "text": [
      "C:\\Users\\tiwar\\Anaconda3\\lib\\site-packages\\ipykernel_launcher.py:1: SettingWithCopyWarning: \n",
      "A value is trying to be set on a copy of a slice from a DataFrame.\n",
      "Try using .loc[row_indexer,col_indexer] = value instead\n",
      "\n",
      "See the caveats in the documentation: http://pandas.pydata.org/pandas-docs/stable/indexing.html#indexing-view-versus-copy\n",
      "  \"\"\"Entry point for launching an IPython kernel.\n"
     ]
    }
   ],
   "source": [
    "data1['date'] = pd.date_range('11/01/1995','31/12/1997')"
   ]
  },
  {
   "cell_type": "code",
   "execution_count": 17,
   "metadata": {},
   "outputs": [
    {
     "data": {
      "text/html": [
       "<div>\n",
       "<style scoped>\n",
       "    .dataframe tbody tr th:only-of-type {\n",
       "        vertical-align: middle;\n",
       "    }\n",
       "\n",
       "    .dataframe tbody tr th {\n",
       "        vertical-align: top;\n",
       "    }\n",
       "\n",
       "    .dataframe thead th {\n",
       "        text-align: right;\n",
       "    }\n",
       "</style>\n",
       "<table border=\"1\" class=\"dataframe\">\n",
       "  <thead>\n",
       "    <tr style=\"text-align: right;\">\n",
       "      <th></th>\n",
       "      <th>Jadcherla L1 Total traffic</th>\n",
       "      <th>Jadcherla L1 trucks and buses traffic</th>\n",
       "      <th>Jadcherla L1 multi-axial traffic</th>\n",
       "      <th>date</th>\n",
       "    </tr>\n",
       "  </thead>\n",
       "  <tbody>\n",
       "    <tr>\n",
       "      <th>0</th>\n",
       "      <td>2365</td>\n",
       "      <td>1618</td>\n",
       "      <td>76</td>\n",
       "      <td>1995-11-01</td>\n",
       "    </tr>\n",
       "    <tr>\n",
       "      <th>1</th>\n",
       "      <td>2529</td>\n",
       "      <td>1750</td>\n",
       "      <td>114</td>\n",
       "      <td>1995-11-02</td>\n",
       "    </tr>\n",
       "    <tr>\n",
       "      <th>2</th>\n",
       "      <td>2459</td>\n",
       "      <td>1657</td>\n",
       "      <td>96</td>\n",
       "      <td>1995-11-03</td>\n",
       "    </tr>\n",
       "    <tr>\n",
       "      <th>3</th>\n",
       "      <td>2517</td>\n",
       "      <td>1717</td>\n",
       "      <td>111</td>\n",
       "      <td>1995-11-04</td>\n",
       "    </tr>\n",
       "    <tr>\n",
       "      <th>4</th>\n",
       "      <td>2380</td>\n",
       "      <td>1478</td>\n",
       "      <td>136</td>\n",
       "      <td>1995-11-05</td>\n",
       "    </tr>\n",
       "  </tbody>\n",
       "</table>\n",
       "</div>"
      ],
      "text/plain": [
       "   Jadcherla L1 Total traffic  Jadcherla L1 trucks and buses traffic  \\\n",
       "0                        2365                                   1618   \n",
       "1                        2529                                   1750   \n",
       "2                        2459                                   1657   \n",
       "3                        2517                                   1717   \n",
       "4                        2380                                   1478   \n",
       "\n",
       "   Jadcherla L1 multi-axial traffic       date  \n",
       "0                                76 1995-11-01  \n",
       "1                               114 1995-11-02  \n",
       "2                                96 1995-11-03  \n",
       "3                               111 1995-11-04  \n",
       "4                               136 1995-11-05  "
      ]
     },
     "execution_count": 17,
     "metadata": {},
     "output_type": "execute_result"
    }
   ],
   "source": [
    "data1.head()"
   ]
  },
  {
   "cell_type": "code",
   "execution_count": 18,
   "metadata": {},
   "outputs": [
    {
     "data": {
      "text/html": [
       "<div>\n",
       "<style scoped>\n",
       "    .dataframe tbody tr th:only-of-type {\n",
       "        vertical-align: middle;\n",
       "    }\n",
       "\n",
       "    .dataframe tbody tr th {\n",
       "        vertical-align: top;\n",
       "    }\n",
       "\n",
       "    .dataframe thead th {\n",
       "        text-align: right;\n",
       "    }\n",
       "</style>\n",
       "<table border=\"1\" class=\"dataframe\">\n",
       "  <thead>\n",
       "    <tr style=\"text-align: right;\">\n",
       "      <th></th>\n",
       "      <th>Jadcherla L1 Total traffic</th>\n",
       "      <th>Jadcherla L1 trucks and buses traffic</th>\n",
       "      <th>Jadcherla L1 multi-axial traffic</th>\n",
       "      <th>date</th>\n",
       "    </tr>\n",
       "  </thead>\n",
       "  <tbody>\n",
       "    <tr>\n",
       "      <th>787</th>\n",
       "      <td>3992</td>\n",
       "      <td>2679</td>\n",
       "      <td>156</td>\n",
       "      <td>1997-12-27</td>\n",
       "    </tr>\n",
       "    <tr>\n",
       "      <th>788</th>\n",
       "      <td>3869</td>\n",
       "      <td>2434</td>\n",
       "      <td>120</td>\n",
       "      <td>1997-12-28</td>\n",
       "    </tr>\n",
       "    <tr>\n",
       "      <th>789</th>\n",
       "      <td>3634</td>\n",
       "      <td>2533</td>\n",
       "      <td>171</td>\n",
       "      <td>1997-12-29</td>\n",
       "    </tr>\n",
       "    <tr>\n",
       "      <th>790</th>\n",
       "      <td>3654</td>\n",
       "      <td>2265</td>\n",
       "      <td>139</td>\n",
       "      <td>1997-12-30</td>\n",
       "    </tr>\n",
       "    <tr>\n",
       "      <th>791</th>\n",
       "      <td>3654</td>\n",
       "      <td>2265</td>\n",
       "      <td>139</td>\n",
       "      <td>1997-12-31</td>\n",
       "    </tr>\n",
       "  </tbody>\n",
       "</table>\n",
       "</div>"
      ],
      "text/plain": [
       "     Jadcherla L1 Total traffic  Jadcherla L1 trucks and buses traffic  \\\n",
       "787                        3992                                   2679   \n",
       "788                        3869                                   2434   \n",
       "789                        3634                                   2533   \n",
       "790                        3654                                   2265   \n",
       "791                        3654                                   2265   \n",
       "\n",
       "     Jadcherla L1 multi-axial traffic       date  \n",
       "787                               156 1997-12-27  \n",
       "788                               120 1997-12-28  \n",
       "789                               171 1997-12-29  \n",
       "790                               139 1997-12-30  \n",
       "791                               139 1997-12-31  "
      ]
     },
     "execution_count": 18,
     "metadata": {},
     "output_type": "execute_result"
    }
   ],
   "source": [
    "data1.tail()"
   ]
  },
  {
   "cell_type": "code",
   "execution_count": 19,
   "metadata": {},
   "outputs": [
    {
     "data": {
      "text/plain": [
       "<matplotlib.collections.PathCollection at 0x2ab8ae7f438>"
      ]
     },
     "execution_count": 19,
     "metadata": {},
     "output_type": "execute_result"
    },
    {
     "data": {
      "image/png": "[encoded data removed]",
      "text/plain": [
       "<Figure size 432x288 with 1 Axes>"
      ]
     },
     "metadata": {},
     "output_type": "display_data"
    }
   ],
   "source": [
    "plt.scatter(pd.date_range('11/01/1995','31/12/1997'),data1['Jadcherla L1 Total traffic'])"
   ]
  },
  {
   "cell_type": "code",
   "execution_count": 20,
   "metadata": {},
   "outputs": [
    {
     "name": "stderr",
     "output_type": "stream",
     "text": [
      "C:\\Users\\tiwar\\Anaconda3\\lib\\site-packages\\ipykernel_launcher.py:1: SettingWithCopyWarning: \n",
      "A value is trying to be set on a copy of a slice from a DataFrame.\n",
      "Try using .loc[row_indexer,col_indexer] = value instead\n",
      "\n",
      "See the caveats in the documentation: http://pandas.pydata.org/pandas-docs/stable/indexing.html#indexing-view-versus-copy\n",
      "  \"\"\"Entry point for launching an IPython kernel.\n",
      "C:\\Users\\tiwar\\Anaconda3\\lib\\site-packages\\ipykernel_launcher.py:2: SettingWithCopyWarning: \n",
      "A value is trying to be set on a copy of a slice from a DataFrame.\n",
      "Try using .loc[row_indexer,col_indexer] = value instead\n",
      "\n",
      "See the caveats in the documentation: http://pandas.pydata.org/pandas-docs/stable/indexing.html#indexing-view-versus-copy\n",
      "  \n",
      "C:\\Users\\tiwar\\Anaconda3\\lib\\site-packages\\ipykernel_launcher.py:3: SettingWithCopyWarning: \n",
      "A value is trying to be set on a copy of a slice from a DataFrame.\n",
      "Try using .loc[row_indexer,col_indexer] = value instead\n",
      "\n",
      "See the caveats in the documentation: http://pandas.pydata.org/pandas-docs/stable/indexing.html#indexing-view-versus-copy\n",
      "  This is separate from the ipykernel package so we can avoid doing imports until\n"
     ]
    }
   ],
   "source": [
    "data1['day'] = data1['date'].dt.day\n",
    "data1['month'] = data1['date'].dt.month\n",
    "data1['year'] = data1['date'].dt.year"
   ]
  },
  {
   "cell_type": "code",
   "execution_count": 21,
   "metadata": {},
   "outputs": [
    {
     "data": {
      "text/html": [
       "<div>\n",
       "<style scoped>\n",
       "    .dataframe tbody tr th:only-of-type {\n",
       "        vertical-align: middle;\n",
       "    }\n",
       "\n",
       "    .dataframe tbody tr th {\n",
       "        vertical-align: top;\n",
       "    }\n",
       "\n",
       "    .dataframe thead th {\n",
       "        text-align: right;\n",
       "    }\n",
       "</style>\n",
       "<table border=\"1\" class=\"dataframe\">\n",
       "  <thead>\n",
       "    <tr style=\"text-align: right;\">\n",
       "      <th></th>\n",
       "      <th>Jadcherla L1 Total traffic</th>\n",
       "      <th>Jadcherla L1 trucks and buses traffic</th>\n",
       "      <th>Jadcherla L1 multi-axial traffic</th>\n",
       "      <th>date</th>\n",
       "      <th>day</th>\n",
       "      <th>month</th>\n",
       "      <th>year</th>\n",
       "    </tr>\n",
       "  </thead>\n",
       "  <tbody>\n",
       "    <tr>\n",
       "      <th>0</th>\n",
       "      <td>2365</td>\n",
       "      <td>1618</td>\n",
       "      <td>76</td>\n",
       "      <td>1995-11-01</td>\n",
       "      <td>1</td>\n",
       "      <td>11</td>\n",
       "      <td>1995</td>\n",
       "    </tr>\n",
       "    <tr>\n",
       "      <th>1</th>\n",
       "      <td>2529</td>\n",
       "      <td>1750</td>\n",
       "      <td>114</td>\n",
       "      <td>1995-11-02</td>\n",
       "      <td>2</td>\n",
       "      <td>11</td>\n",
       "      <td>1995</td>\n",
       "    </tr>\n",
       "    <tr>\n",
       "      <th>2</th>\n",
       "      <td>2459</td>\n",
       "      <td>1657</td>\n",
       "      <td>96</td>\n",
       "      <td>1995-11-03</td>\n",
       "      <td>3</td>\n",
       "      <td>11</td>\n",
       "      <td>1995</td>\n",
       "    </tr>\n",
       "    <tr>\n",
       "      <th>3</th>\n",
       "      <td>2517</td>\n",
       "      <td>1717</td>\n",
       "      <td>111</td>\n",
       "      <td>1995-11-04</td>\n",
       "      <td>4</td>\n",
       "      <td>11</td>\n",
       "      <td>1995</td>\n",
       "    </tr>\n",
       "    <tr>\n",
       "      <th>4</th>\n",
       "      <td>2380</td>\n",
       "      <td>1478</td>\n",
       "      <td>136</td>\n",
       "      <td>1995-11-05</td>\n",
       "      <td>5</td>\n",
       "      <td>11</td>\n",
       "      <td>1995</td>\n",
       "    </tr>\n",
       "  </tbody>\n",
       "</table>\n",
       "</div>"
      ],
      "text/plain": [
       "   Jadcherla L1 Total traffic  Jadcherla L1 trucks and buses traffic  \\\n",
       "0                        2365                                   1618   \n",
       "1                        2529                                   1750   \n",
       "2                        2459                                   1657   \n",
       "3                        2517                                   1717   \n",
       "4                        2380                                   1478   \n",
       "\n",
       "   Jadcherla L1 multi-axial traffic       date  day  month  year  \n",
       "0                                76 1995-11-01    1     11  1995  \n",
       "1                               114 1995-11-02    2     11  1995  \n",
       "2                                96 1995-11-03    3     11  1995  \n",
       "3                               111 1995-11-04    4     11  1995  \n",
       "4                               136 1995-11-05    5     11  1995  "
      ]
     },
     "execution_count": 21,
     "metadata": {},
     "output_type": "execute_result"
    }
   ],
   "source": [
    "data1.head()"
   ]
  },
  {
   "cell_type": "code",
   "execution_count": 22,
   "metadata": {},
   "outputs": [],
   "source": [
    "data1 = data1.drop('date',axis=1)"
   ]
  },
  {
   "cell_type": "code",
   "execution_count": 23,
   "metadata": {},
   "outputs": [
    {
     "data": {
      "text/html": [
       "<div>\n",
       "<style scoped>\n",
       "    .dataframe tbody tr th:only-of-type {\n",
       "        vertical-align: middle;\n",
       "    }\n",
       "\n",
       "    .dataframe tbody tr th {\n",
       "        vertical-align: top;\n",
       "    }\n",
       "\n",
       "    .dataframe thead th {\n",
       "        text-align: right;\n",
       "    }\n",
       "</style>\n",
       "<table border=\"1\" class=\"dataframe\">\n",
       "  <thead>\n",
       "    <tr style=\"text-align: right;\">\n",
       "      <th></th>\n",
       "      <th>Jadcherla L1 Total traffic</th>\n",
       "      <th>Jadcherla L1 trucks and buses traffic</th>\n",
       "      <th>Jadcherla L1 multi-axial traffic</th>\n",
       "      <th>day</th>\n",
       "      <th>month</th>\n",
       "      <th>year</th>\n",
       "    </tr>\n",
       "  </thead>\n",
       "  <tbody>\n",
       "    <tr>\n",
       "      <th>0</th>\n",
       "      <td>2365</td>\n",
       "      <td>1618</td>\n",
       "      <td>76</td>\n",
       "      <td>1</td>\n",
       "      <td>11</td>\n",
       "      <td>1995</td>\n",
       "    </tr>\n",
       "    <tr>\n",
       "      <th>1</th>\n",
       "      <td>2529</td>\n",
       "      <td>1750</td>\n",
       "      <td>114</td>\n",
       "      <td>2</td>\n",
       "      <td>11</td>\n",
       "      <td>1995</td>\n",
       "    </tr>\n",
       "    <tr>\n",
       "      <th>2</th>\n",
       "      <td>2459</td>\n",
       "      <td>1657</td>\n",
       "      <td>96</td>\n",
       "      <td>3</td>\n",
       "      <td>11</td>\n",
       "      <td>1995</td>\n",
       "    </tr>\n",
       "    <tr>\n",
       "      <th>3</th>\n",
       "      <td>2517</td>\n",
       "      <td>1717</td>\n",
       "      <td>111</td>\n",
       "      <td>4</td>\n",
       "      <td>11</td>\n",
       "      <td>1995</td>\n",
       "    </tr>\n",
       "    <tr>\n",
       "      <th>4</th>\n",
       "      <td>2380</td>\n",
       "      <td>1478</td>\n",
       "      <td>136</td>\n",
       "      <td>5</td>\n",
       "      <td>11</td>\n",
       "      <td>1995</td>\n",
       "    </tr>\n",
       "  </tbody>\n",
       "</table>\n",
       "</div>"
      ],
      "text/plain": [
       "   Jadcherla L1 Total traffic  Jadcherla L1 trucks and buses traffic  \\\n",
       "0                        2365                                   1618   \n",
       "1                        2529                                   1750   \n",
       "2                        2459                                   1657   \n",
       "3                        2517                                   1717   \n",
       "4                        2380                                   1478   \n",
       "\n",
       "   Jadcherla L1 multi-axial traffic  day  month  year  \n",
       "0                                76    1     11  1995  \n",
       "1                               114    2     11  1995  \n",
       "2                                96    3     11  1995  \n",
       "3                               111    4     11  1995  \n",
       "4                               136    5     11  1995  "
      ]
     },
     "execution_count": 23,
     "metadata": {},
     "output_type": "execute_result"
    }
   ],
   "source": [
    "data1.head()"
   ]
  },
  {
   "cell_type": "code",
   "execution_count": 24,
   "metadata": {},
   "outputs": [],
   "source": [
    "# groupbyDay = data1.groupby('day')\n",
    "# groupbyMonth = data1.groupby('month')\n",
    "# groupbyYear = data1.groupby('year')"
   ]
  },
  {
   "cell_type": "code",
   "execution_count": 25,
   "metadata": {},
   "outputs": [],
   "source": [
    "# groupbyDay.first()"
   ]
  },
  {
   "cell_type": "code",
   "execution_count": 26,
   "metadata": {},
   "outputs": [],
   "source": [
    "# groupbyMonth.first()"
   ]
  },
  {
   "cell_type": "code",
   "execution_count": 27,
   "metadata": {},
   "outputs": [],
   "source": [
    "# groupbyYear.first()"
   ]
  },
  {
   "cell_type": "code",
   "execution_count": 28,
   "metadata": {},
   "outputs": [],
   "source": [
    "X = data1.iloc[:,1:].values\n",
    "y = data1.iloc[:,0].values"
   ]
  },
  {
   "cell_type": "code",
   "execution_count": 29,
   "metadata": {},
   "outputs": [],
   "source": [
    "# plt.scatter(y,data1['month'],color='red')"
   ]
  },
  {
   "cell_type": "code",
   "execution_count": 30,
   "metadata": {},
   "outputs": [
    {
     "data": {
      "text/plain": [
       "array([[1618,   76,    1,   11, 1995],\n",
       "       [1750,  114,    2,   11, 1995],\n",
       "       [1657,   96,    3,   11, 1995],\n",
       "       ...,\n",
       "       [2533,  171,   29,   12, 1997],\n",
       "       [2265,  139,   30,   12, 1997],\n",
       "       [2265,  139,   31,   12, 1997]], dtype=int64)"
      ]
     },
     "execution_count": 30,
     "metadata": {},
     "output_type": "execute_result"
    }
   ],
   "source": [
    "X"
   ]
  },
  {
   "cell_type": "code",
   "execution_count": 31,
   "metadata": {},
   "outputs": [
    {
     "data": {
      "text/plain": [
       "array([2365, 2529, 2459, 2517, 2380, 2382, 2357, 2525, 2322, 2658, 2422,\n",
       "       2443, 2357, 2368, 2392, 2305, 2522, 2488, 2454, 2396, 2514, 2468,\n",
       "       2628, 2459, 2466, 2493, 2771, 2858, 2456, 2383, 2414, 2569, 2494,\n",
       "       2285, 2463, 2399, 2553, 2416, 2391, 2416, 2414, 2553, 2494, 2565,\n",
       "       2399, 2338, 2802, 2899, 2492, 2417, 2529, 2501, 2494, 2666, 2503,\n",
       "       2550, 2430, 2489, 2524, 2558, 2612, 2584, 2763, 2686, 2750, 2602,\n",
       "       2603, 2576, 2603, 2705, 2584, 2654, 2462, 2696, 2768, 2602, 2818,\n",
       "       2756, 2682, 2618, 2719, 2747, 2696, 2872, 2687, 2696, 2685, 2604,\n",
       "       3124, 3019, 2519, 2793, 2885, 2849, 2972, 2986, 2904, 2795, 2765,\n",
       "       2643, 2952, 2795, 2884, 2786, 2967, 2925, 2919, 2811, 2885, 3083,\n",
       "       2948, 2893, 2959, 2895, 3742, 3354, 2882, 2894, 2795, 2705, 2920,\n",
       "       2786, 2752, 2865, 2610, 2751, 2906, 2893, 2725, 2938, 2805, 2846,\n",
       "       2936, 2756, 2881, 2662, 2849, 2932, 3305, 2752, 2855, 2932, 2859,\n",
       "       3035, 3182, 2836, 2902, 2872, 2865, 2693, 2762, 2928, 2795, 2836,\n",
       "       2747, 2926, 2872, 2715, 2883, 2896, 2602, 2896, 2796, 2759, 2912,\n",
       "       2741, 2826, 3177, 2862, 2966, 2692, 2892, 2786, 2653, 3024, 2839,\n",
       "       2822, 3294, 2742, 2845, 2849, 3011, 2852, 2833, 2994, 2892, 2692,\n",
       "       2994, 2893, 2789, 3086, 2975, 2995, 2912, 2888, 3058, 2989, 2880,\n",
       "       2742, 2959, 2935, 3127, 3022, 3065, 2865, 3406, 2835, 2942, 2945,\n",
       "       3163, 3275, 2922, 3154, 3179, 3176, 3060, 3093, 3309, 3415, 3535,\n",
       "       3676, 3262, 3376, 3168, 3194, 2960, 3109, 3232, 3120, 2078, 3239,\n",
       "       2906, 3123, 3011, 3212, 3233, 3059, 3144, 3343, 3118, 3302, 3252,\n",
       "       3119, 3094, 3297, 3185, 3232, 3026, 2892, 3452, 3335, 3590, 3102,\n",
       "       3022, 2988, 3105, 3080, 3176, 3045, 3265, 3070, 2986, 3225, 3158,\n",
       "       2945, 3137, 3049, 3663, 2845, 3005, 3048, 3157, 3096, 3204, 3096,\n",
       "       3142, 2942, 3242, 2811, 3356, 3031, 3007, 3015, 2938, 2904, 3481,\n",
       "       3082, 2995, 3009, 3068, 2920, 2921, 2964, 3049, 2962, 3075, 2963,\n",
       "       2766, 3069, 3173, 2949, 3087, 2960, 3225, 2858, 3266, 3159, 3097,\n",
       "       3056, 2955, 2998, 3094, 3203, 2886, 2892, 2683, 2870, 2887, 2771,\n",
       "       2832, 2954, 2822, 3036, 2937, 3086, 2647, 2942, 2843, 2742, 2917,\n",
       "       2836, 2795, 2794, 2879, 2944, 3135, 2865, 2996, 3064, 3040, 3174,\n",
       "       3168, 3149, 3178, 3515, 3394, 3584, 3467, 3398, 3159, 3066, 3098,\n",
       "       3112, 3009, 3206, 3228, 3119, 2905, 3387, 3222, 3332, 3097, 3242,\n",
       "       3107, 3225, 3164, 3089, 3112, 3089, 3115, 3216, 3106, 2893, 3065,\n",
       "       2640, 2786, 2932, 2664, 2983, 2899, 2893, 2765, 2646, 2932, 3165,\n",
       "       2864, 3169, 3075, 2966, 2787, 2938, 3165, 3049, 2938, 3016, 3118,\n",
       "       3064, 3392, 3286, 3385, 3507, 3387, 3154, 2878, 3037, 3197, 3498,\n",
       "       2908, 3255, 3153, 3289, 3203, 3325, 3451, 3203, 3039, 3234, 3353,\n",
       "       3455, 3124, 3450, 3196, 2885, 3014, 3154, 3098, 2899, 3282, 3319,\n",
       "       3129, 3224, 3562, 3298, 3458, 3570, 3681, 3152, 3691, 3425, 3318,\n",
       "       3365, 3564, 3198, 3403, 3386, 3529, 3632, 3497, 3371, 3636, 3485,\n",
       "       3461, 3586, 3375, 3589, 3361, 3287, 3842, 3628, 3577, 3264, 3578,\n",
       "       3538, 3475, 3373, 3555, 3728, 3968, 3840, 3848, 3979, 3692, 3785,\n",
       "       3632, 3650, 3430, 3616, 3751, 3895, 3799, 3738, 3846, 3620, 3849,\n",
       "       3712, 3702, 3519, 3823, 3425, 3495, 3447, 3446, 3409, 3348, 3145,\n",
       "       3250, 3698, 3635, 3834, 3708, 3553, 3370, 3586, 3568, 3718, 3827,\n",
       "       3732, 3675, 3685, 3779, 3558, 3782, 3652, 3489, 3715, 3489, 3650,\n",
       "       3446, 3377, 3769, 3470, 3398, 3399, 3302, 3201, 3362, 3204, 3584,\n",
       "       3656, 3752, 3646, 3536, 3666, 3518, 3574, 3323, 3503, 3624, 3633,\n",
       "       3684, 3509, 3729, 3726, 3440, 3663, 3602, 3551, 3576, 3502, 3413,\n",
       "       3598, 3482, 3762, 3498, 3885, 3302, 3465, 3768, 3867, 3759, 3384,\n",
       "       3778, 3684, 3644, 3425, 3611, 3626, 3735, 3744, 3797, 3616, 3584,\n",
       "       3712, 3545, 3776, 3843, 3839, 3789, 3736, 3626, 3815, 3699, 3823,\n",
       "       3717, 3997, 3508, 3998, 3595, 3681, 4108, 4127, 4003, 3852, 4084,\n",
       "       3914, 3872, 4014, 3836, 3807, 4014, 3639, 3766, 4098, 3984, 3784,\n",
       "       3944, 3968, 3722, 3943, 3771, 3686, 3661, 3578, 3649, 3764, 3545,\n",
       "       3464, 4055, 3949, 4027, 3631, 3944, 3786, 4028, 3959, 4161, 3962,\n",
       "       3802, 3959, 3755, 3715, 3592, 4042, 3915, 4001, 3892, 3733, 3930,\n",
       "       3860, 3609, 3503, 3584, 3694, 3643, 3394, 3575, 3555, 3861, 3942,\n",
       "       3866, 3470, 3969, 3685, 3637, 3516, 3917, 3875, 3811, 3832, 3847,\n",
       "       3654, 3959, 4073, 3869, 3875, 3676, 3722, 3944, 3708, 3689, 3755,\n",
       "       3683, 3677, 3781, 3510, 3337, 3414, 3519, 3470, 3233, 3406, 3386,\n",
       "       3306, 3438, 3422, 3745, 3556, 3539, 3839, 3731, 3709, 3893, 3812,\n",
       "       3964, 3771, 3622, 3578, 3769, 3853, 3838, 3940, 3845, 3656, 3914,\n",
       "       3369, 3832, 3616, 3550, 3583, 3667, 3445, 3529, 3559, 3478, 3688,\n",
       "       3930, 3939, 3567, 3729, 4015, 3706, 3973, 4131, 3576, 4000, 4057,\n",
       "       3927, 3865, 3706, 3903, 3756, 3731, 3735, 3639, 3652, 3665, 3496,\n",
       "       3464, 3585, 3284, 3659, 3384, 3418, 3447, 3211, 3402, 3555, 3787,\n",
       "       3967, 3724, 3533, 3515, 3308, 3746, 3867, 3741, 3827, 3822, 3533,\n",
       "       3684, 3776, 3884, 3763, 3707, 3615, 3564, 3582, 3858, 3783, 3468,\n",
       "       3596, 3790, 3862, 3535, 3554, 3678, 3855, 3952, 3654, 3875, 3957,\n",
       "       3518, 3910, 3916, 3812, 3422, 3665, 3992, 3869, 3634, 3654, 3654],\n",
       "      dtype=int64)"
      ]
     },
     "execution_count": 31,
     "metadata": {},
     "output_type": "execute_result"
    }
   ],
   "source": [
    "y"
   ]
  },
  {
   "cell_type": "code",
   "execution_count": 32,
   "metadata": {},
   "outputs": [],
   "source": [
    "y = y.reshape(-1,1)"
   ]
  },
  {
   "cell_type": "code",
   "execution_count": 1,
   "metadata": {},
   "outputs": [],
   "source": [
    "# from sklearn.preprocessing import StandardScaler"
   ]
  },
  {
   "cell_type": "code",
   "execution_count": 2,
   "metadata": {},
   "outputs": [],
   "source": [
    "# sc_X = StandardScaler()\n",
    "# sc_y = StandardScaler()"
   ]
  },
  {
   "cell_type": "code",
   "execution_count": 3,
   "metadata": {},
   "outputs": [],
   "source": [
    "# X2 = sc_X.fit_transform(X)"
   ]
  },
  {
   "cell_type": "code",
   "execution_count": 4,
   "metadata": {},
   "outputs": [],
   "source": [
    "# y2 = sc_y.fit_transform(y)"
   ]
  },
  {
   "cell_type": "code",
   "execution_count": 5,
   "metadata": {},
   "outputs": [],
   "source": [
    "# X2"
   ]
  },
  {
   "cell_type": "code",
   "execution_count": 6,
   "metadata": {},
   "outputs": [],
   "source": [
    "# y2"
   ]
  },
  {
   "cell_type": "code",
   "execution_count": 7,
   "metadata": {},
   "outputs": [],
   "source": [
    "# from sklearn.svm import SVR\n",
    "# from sklearn.model_selection import train_test_split\n",
    "# from sklearn.metrics import r2_score"
   ]
  },
  {
   "cell_type": "code",
   "execution_count": 40,
   "metadata": {},
   "outputs": [],
   "source": [
    "X_train,X_test,y_train,y_test = train_test_split(X2,y2,test_size=0.33)"
   ]
  },
  {
   "cell_type": "code",
   "execution_count": 41,
   "metadata": {},
   "outputs": [],
   "source": [
    "regressor = SVR(kernel='rbf',gamma=0.1,C=1,epsilon=0.01)"
   ]
  },
  {
   "cell_type": "code",
   "execution_count": 42,
   "metadata": {},
   "outputs": [
    {
     "name": "stderr",
     "output_type": "stream",
     "text": [
      "C:\\Users\\tiwar\\Anaconda3\\lib\\site-packages\\sklearn\\utils\\validation.py:578: DataConversionWarning: A column-vector y was passed when a 1d array was expected. Please change the shape of y to (n_samples, ), for example using ravel().\n",
      "  y = column_or_1d(y, warn=True)\n"
     ]
    },
    {
     "data": {
      "text/plain": [
       "SVR(C=1, cache_size=200, coef0=0.0, degree=3, epsilon=0.01, gamma=0.1,\n",
       "  kernel='rbf', max_iter=-1, shrinking=True, tol=0.001, verbose=False)"
      ]
     },
     "execution_count": 42,
     "metadata": {},
     "output_type": "execute_result"
    }
   ],
   "source": [
    "regressor.fit(X_train,y_train)"
   ]
  },
  {
   "cell_type": "code",
   "execution_count": 43,
   "metadata": {},
   "outputs": [],
   "source": [
    "pred = regressor.predict(X_test)"
   ]
  },
  {
   "cell_type": "code",
   "execution_count": 44,
   "metadata": {},
   "outputs": [
    {
     "data": {
      "text/plain": [
       "0.9178816740454341"
      ]
     },
     "execution_count": 44,
     "metadata": {},
     "output_type": "execute_result"
    }
   ],
   "source": [
    "regressor.score(X_test,y_test)"
   ]
  },
  {
   "cell_type": "code",
   "execution_count": 45,
   "metadata": {},
   "outputs": [
    {
     "data": {
      "text/plain": [
       "0.9178816740454341"
      ]
     },
     "execution_count": 45,
     "metadata": {},
     "output_type": "execute_result"
    }
   ],
   "source": [
    "r2_score(y_test,pred)"
   ]
  },
  {
   "cell_type": "code",
   "execution_count": 48,
   "metadata": {},
   "outputs": [],
   "source": [
    "from sklearn.model_selection import GridSearchCV"
   ]
  },
  {
   "cell_type": "code",
   "execution_count": 49,
   "metadata": {},
   "outputs": [],
   "source": [
    "param_grid = {'C': [0.1, 1, 100, 1000],\n",
    "              'epsilon': [0.0001, 0.0005, 0.001, 0.005, 0.01, 0.05, 0.1, 0.5, 1, 5, 10],\n",
    "              'gamma': [0.0001, 0.001, 0.005, 0.1, 1, 3, 5]}"
   ]
  },
  {
   "cell_type": "code",
   "execution_count": 50,
   "metadata": {},
   "outputs": [],
   "source": [
    "gcs = GridSearchCV(estimator='rbf', param_grid=param_grid,cv=5,scoring='neg_mean_squared_error',verbose=0,n_jobs=-1)"
   ]
  },
  {
   "cell_type": "code",
   "execution_count": 51,
   "metadata": {},
   "outputs": [
    {
     "ename": "TypeError",
     "evalue": "estimator should be an estimator implementing 'fit' method, 'rbf' was passed",
     "output_type": "error",
     "traceback": [
      "\u001b[1;31m---------------------------------------------------------------------------\u001b[0m",
      "\u001b[1;31mTypeError\u001b[0m                                 Traceback (most recent call last)",
      "\u001b[1;32m<ipython-input-51-05a6666cd33b>\u001b[0m in \u001b[0;36m<module>\u001b[1;34m()\u001b[0m\n\u001b[1;32m----> 1\u001b[1;33m \u001b[0mgrid_result\u001b[0m \u001b[1;33m=\u001b[0m \u001b[0mgcs\u001b[0m\u001b[1;33m.\u001b[0m\u001b[0mfit\u001b[0m\u001b[1;33m(\u001b[0m\u001b[0mX_train\u001b[0m\u001b[1;33m,\u001b[0m\u001b[0my_train\u001b[0m\u001b[1;33m)\u001b[0m\u001b[1;33m\u001b[0m\u001b[0m\n\u001b[0m",
      "\u001b[1;32m~\\Anaconda3\\lib\\site-packages\\sklearn\\model_selection\\_search.py\u001b[0m in \u001b[0;36mfit\u001b[1;34m(self, X, y, groups, **fit_params)\u001b[0m\n\u001b[0;32m    593\u001b[0m \u001b[1;33m\u001b[0m\u001b[0m\n\u001b[0;32m    594\u001b[0m         scorers, self.multimetric_ = _check_multimetric_scoring(\n\u001b[1;32m--> 595\u001b[1;33m             self.estimator, scoring=self.scoring)\n\u001b[0m\u001b[0;32m    596\u001b[0m \u001b[1;33m\u001b[0m\u001b[0m\n\u001b[0;32m    597\u001b[0m         \u001b[1;32mif\u001b[0m \u001b[0mself\u001b[0m\u001b[1;33m.\u001b[0m\u001b[0mmultimetric_\u001b[0m\u001b[1;33m:\u001b[0m\u001b[1;33m\u001b[0m\u001b[0m\n",
      "\u001b[1;32m~\\Anaconda3\\lib\\site-packages\\sklearn\\metrics\\scorer.py\u001b[0m in \u001b[0;36m_check_multimetric_scoring\u001b[1;34m(estimator, scoring)\u001b[0m\n\u001b[0;32m    340\u001b[0m     if callable(scoring) or scoring is None or isinstance(scoring,\n\u001b[0;32m    341\u001b[0m                                                           six.string_types):\n\u001b[1;32m--> 342\u001b[1;33m         \u001b[0mscorers\u001b[0m \u001b[1;33m=\u001b[0m \u001b[1;33m{\u001b[0m\u001b[1;34m\"score\"\u001b[0m\u001b[1;33m:\u001b[0m \u001b[0mcheck_scoring\u001b[0m\u001b[1;33m(\u001b[0m\u001b[0mestimator\u001b[0m\u001b[1;33m,\u001b[0m \u001b[0mscoring\u001b[0m\u001b[1;33m=\u001b[0m\u001b[0mscoring\u001b[0m\u001b[1;33m)\u001b[0m\u001b[1;33m}\u001b[0m\u001b[1;33m\u001b[0m\u001b[0m\n\u001b[0m\u001b[0;32m    343\u001b[0m         \u001b[1;32mreturn\u001b[0m \u001b[0mscorers\u001b[0m\u001b[1;33m,\u001b[0m \u001b[1;32mFalse\u001b[0m\u001b[1;33m\u001b[0m\u001b[0m\n\u001b[0;32m    344\u001b[0m     \u001b[1;32melse\u001b[0m\u001b[1;33m:\u001b[0m\u001b[1;33m\u001b[0m\u001b[0m\n",
      "\u001b[1;32m~\\Anaconda3\\lib\\site-packages\\sklearn\\metrics\\scorer.py\u001b[0m in \u001b[0;36mcheck_scoring\u001b[1;34m(estimator, scoring, allow_none)\u001b[0m\n\u001b[0;32m    272\u001b[0m     \u001b[1;32mif\u001b[0m \u001b[1;32mnot\u001b[0m \u001b[0mhasattr\u001b[0m\u001b[1;33m(\u001b[0m\u001b[0mestimator\u001b[0m\u001b[1;33m,\u001b[0m \u001b[1;34m'fit'\u001b[0m\u001b[1;33m)\u001b[0m\u001b[1;33m:\u001b[0m\u001b[1;33m\u001b[0m\u001b[0m\n\u001b[0;32m    273\u001b[0m         raise TypeError(\"estimator should be an estimator implementing \"\n\u001b[1;32m--> 274\u001b[1;33m                         \"'fit' method, %r was passed\" % estimator)\n\u001b[0m\u001b[0;32m    275\u001b[0m     \u001b[1;32mif\u001b[0m \u001b[0misinstance\u001b[0m\u001b[1;33m(\u001b[0m\u001b[0mscoring\u001b[0m\u001b[1;33m,\u001b[0m \u001b[0msix\u001b[0m\u001b[1;33m.\u001b[0m\u001b[0mstring_types\u001b[0m\u001b[1;33m)\u001b[0m\u001b[1;33m:\u001b[0m\u001b[1;33m\u001b[0m\u001b[0m\n\u001b[0;32m    276\u001b[0m         \u001b[1;32mreturn\u001b[0m \u001b[0mget_scorer\u001b[0m\u001b[1;33m(\u001b[0m\u001b[0mscoring\u001b[0m\u001b[1;33m)\u001b[0m\u001b[1;33m\u001b[0m\u001b[0m\n",
      "\u001b[1;31mTypeError\u001b[0m: estimator should be an estimator implementing 'fit' method, 'rbf' was passed"
     ]
    }
   ],
   "source": [
    "grid_result = gcs.fit(X_train,y_train)"
   ]
  },
  {
   "cell_type": "code",
   "execution_count": null,
   "metadata": {},
   "outputs": [],
   "source": []
  }
 ],
 "metadata": {
  "kernelspec": {
   "display_name": "Python 3",
   "language": "python",
   "name": "python3"
  },
  "language_info": {
   "codemirror_mode": {
    "name": "ipython",
    "version": 3
   },
   "file_extension": ".py",
   "mimetype": "text/x-python",
   "name": "python",
   "nbconvert_exporter": "python",
   "pygments_lexer": "ipython3",
   "version": "3.6.5"
  }
 },
 "nbformat": 4,
 "nbformat_minor": 2
}
