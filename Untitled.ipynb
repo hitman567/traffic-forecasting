{
 "cells": [
  {
   "cell_type": "code",
   "execution_count": 2,
   "metadata": {},
   "outputs": [],
   "source": [
    "import numpy as np\n",
    "import pandas as pd\n",
    "import matplotlib.pyplot as plt\n",
    "import math\n",
    "import seaborn as sns\n",
    "%matplotlib inline"
   ]
  },
  {
   "cell_type": "code",
   "execution_count": 3,
   "metadata": {},
   "outputs": [],
   "source": [
    "data = pd.read_csv(\"traffic_data.csv\")"
   ]
  },
  {
   "cell_type": "code",
   "execution_count": 4,
   "metadata": {
    "scrolled": true
   },
   "outputs": [
    {
     "data": {
      "text/html": [
       "<div>\n",
       "<style scoped>\n",
       "    .dataframe tbody tr th:only-of-type {\n",
       "        vertical-align: middle;\n",
       "    }\n",
       "\n",
       "    .dataframe tbody tr th {\n",
       "        vertical-align: top;\n",
       "    }\n",
       "\n",
       "    .dataframe thead th {\n",
       "        text-align: right;\n",
       "    }\n",
       "</style>\n",
       "<table border=\"1\" class=\"dataframe\">\n",
       "  <thead>\n",
       "    <tr style=\"text-align: right;\">\n",
       "      <th></th>\n",
       "      <th>Date</th>\n",
       "      <th>Jadcherla L1 Total traffic</th>\n",
       "      <th>Jadcherla L1 trucks and buses traffic</th>\n",
       "      <th>Jadcherla L1 multi-axial traffic</th>\n",
       "      <th>Jadcherla L2 Total traffic</th>\n",
       "      <th>Jadcherla L2 trucks and buses traffic</th>\n",
       "      <th>Jadcherla L2 multi-axial traffic</th>\n",
       "      <th>Sher Mohamad L1 Total traffic</th>\n",
       "      <th>Sher Mohamad L1 trucks and buses traffic</th>\n",
       "      <th>Sher Mohamad L1 multi-axial traffic</th>\n",
       "      <th>Sher Mohamad L2 Total traffic</th>\n",
       "      <th>Sher Mohamad L2 trucks and buses traffic</th>\n",
       "      <th>Sher Mohamad L2 multi-axial traffic</th>\n",
       "      <th>Guntur L1 Total traffic</th>\n",
       "      <th>Guntur L1 trucks and buses traffic</th>\n",
       "      <th>Guntur L1 multi-axial traffic</th>\n",
       "      <th>Guntur L2 Total traffic</th>\n",
       "      <th>Guntur L2 trucks and buses traffic</th>\n",
       "      <th>Guntur L2 multi-axial traffic</th>\n",
       "    </tr>\n",
       "  </thead>\n",
       "  <tbody>\n",
       "    <tr>\n",
       "      <th>0</th>\n",
       "      <td>01-11-95</td>\n",
       "      <td>2365</td>\n",
       "      <td>1618</td>\n",
       "      <td>76</td>\n",
       "      <td>2410</td>\n",
       "      <td>1660</td>\n",
       "      <td>99</td>\n",
       "      <td>2279</td>\n",
       "      <td>1408</td>\n",
       "      <td>80</td>\n",
       "      <td>2356</td>\n",
       "      <td>1447</td>\n",
       "      <td>132</td>\n",
       "      <td>5091</td>\n",
       "      <td>2832</td>\n",
       "      <td>224</td>\n",
       "      <td>5005</td>\n",
       "      <td>3233</td>\n",
       "      <td>240</td>\n",
       "    </tr>\n",
       "    <tr>\n",
       "      <th>1</th>\n",
       "      <td>02-11-95</td>\n",
       "      <td>2529</td>\n",
       "      <td>1750</td>\n",
       "      <td>114</td>\n",
       "      <td>2422</td>\n",
       "      <td>1732</td>\n",
       "      <td>116</td>\n",
       "      <td>2283</td>\n",
       "      <td>1454</td>\n",
       "      <td>75</td>\n",
       "      <td>2342</td>\n",
       "      <td>1461</td>\n",
       "      <td>159</td>\n",
       "      <td>5112</td>\n",
       "      <td>3031</td>\n",
       "      <td>271</td>\n",
       "      <td>5164</td>\n",
       "      <td>3548</td>\n",
       "      <td>191</td>\n",
       "    </tr>\n",
       "    <tr>\n",
       "      <th>2</th>\n",
       "      <td>03-11-95</td>\n",
       "      <td>2459</td>\n",
       "      <td>1657</td>\n",
       "      <td>96</td>\n",
       "      <td>2406</td>\n",
       "      <td>1653</td>\n",
       "      <td>128</td>\n",
       "      <td>2381</td>\n",
       "      <td>1538</td>\n",
       "      <td>100</td>\n",
       "      <td>1956</td>\n",
       "      <td>1262</td>\n",
       "      <td>141</td>\n",
       "      <td>5011</td>\n",
       "      <td>3227</td>\n",
       "      <td>246</td>\n",
       "      <td>5084</td>\n",
       "      <td>3300</td>\n",
       "      <td>275</td>\n",
       "    </tr>\n",
       "    <tr>\n",
       "      <th>3</th>\n",
       "      <td>04-11-95</td>\n",
       "      <td>2517</td>\n",
       "      <td>1717</td>\n",
       "      <td>111</td>\n",
       "      <td>2388</td>\n",
       "      <td>1543</td>\n",
       "      <td>105</td>\n",
       "      <td>2104</td>\n",
       "      <td>1403</td>\n",
       "      <td>61</td>\n",
       "      <td>2196</td>\n",
       "      <td>1335</td>\n",
       "      <td>121</td>\n",
       "      <td>5090</td>\n",
       "      <td>3471</td>\n",
       "      <td>321</td>\n",
       "      <td>5056</td>\n",
       "      <td>3202</td>\n",
       "      <td>258</td>\n",
       "    </tr>\n",
       "    <tr>\n",
       "      <th>4</th>\n",
       "      <td>05-11-95</td>\n",
       "      <td>2380</td>\n",
       "      <td>1478</td>\n",
       "      <td>136</td>\n",
       "      <td>2469</td>\n",
       "      <td>1711</td>\n",
       "      <td>104</td>\n",
       "      <td>2047</td>\n",
       "      <td>1257</td>\n",
       "      <td>78</td>\n",
       "      <td>2072</td>\n",
       "      <td>1336</td>\n",
       "      <td>129</td>\n",
       "      <td>5316</td>\n",
       "      <td>3578</td>\n",
       "      <td>303</td>\n",
       "      <td>5164</td>\n",
       "      <td>3197</td>\n",
       "      <td>253</td>\n",
       "    </tr>\n",
       "  </tbody>\n",
       "</table>\n",
       "</div>"
      ],
      "text/plain": [
       "       Date  Jadcherla L1 Total traffic  \\\n",
       "0  01-11-95                        2365   \n",
       "1  02-11-95                        2529   \n",
       "2  03-11-95                        2459   \n",
       "3  04-11-95                        2517   \n",
       "4  05-11-95                        2380   \n",
       "\n",
       "   Jadcherla L1 trucks and buses traffic  Jadcherla L1 multi-axial traffic  \\\n",
       "0                                   1618                                76   \n",
       "1                                   1750                               114   \n",
       "2                                   1657                                96   \n",
       "3                                   1717                               111   \n",
       "4                                   1478                               136   \n",
       "\n",
       "   Jadcherla L2 Total traffic  Jadcherla L2 trucks and buses traffic  \\\n",
       "0                        2410                                   1660   \n",
       "1                        2422                                   1732   \n",
       "2                        2406                                   1653   \n",
       "3                        2388                                   1543   \n",
       "4                        2469                                   1711   \n",
       "\n",
       "   Jadcherla L2 multi-axial traffic  Sher Mohamad L1 Total traffic  \\\n",
       "0                                99                           2279   \n",
       "1                               116                           2283   \n",
       "2                               128                           2381   \n",
       "3                               105                           2104   \n",
       "4                               104                           2047   \n",
       "\n",
       "   Sher Mohamad L1 trucks and buses traffic  \\\n",
       "0                                      1408   \n",
       "1                                      1454   \n",
       "2                                      1538   \n",
       "3                                      1403   \n",
       "4                                      1257   \n",
       "\n",
       "   Sher Mohamad L1 multi-axial traffic  Sher Mohamad L2 Total traffic  \\\n",
       "0                                   80                           2356   \n",
       "1                                   75                           2342   \n",
       "2                                  100                           1956   \n",
       "3                                   61                           2196   \n",
       "4                                   78                           2072   \n",
       "\n",
       "   Sher Mohamad L2 trucks and buses traffic  \\\n",
       "0                                      1447   \n",
       "1                                      1461   \n",
       "2                                      1262   \n",
       "3                                      1335   \n",
       "4                                      1336   \n",
       "\n",
       "   Sher Mohamad L2 multi-axial traffic  Guntur L1 Total traffic  \\\n",
       "0                                  132                     5091   \n",
       "1                                  159                     5112   \n",
       "2                                  141                     5011   \n",
       "3                                  121                     5090   \n",
       "4                                  129                     5316   \n",
       "\n",
       "   Guntur L1 trucks and buses traffic  Guntur L1 multi-axial traffic  \\\n",
       "0                                2832                            224   \n",
       "1                                3031                            271   \n",
       "2                                3227                            246   \n",
       "3                                3471                            321   \n",
       "4                                3578                            303   \n",
       "\n",
       "   Guntur L2 Total traffic  Guntur L2 trucks and buses traffic  \\\n",
       "0                     5005                                3233   \n",
       "1                     5164                                3548   \n",
       "2                     5084                                3300   \n",
       "3                     5056                                3202   \n",
       "4                     5164                                3197   \n",
       "\n",
       "   Guntur L2 multi-axial traffic  \n",
       "0                            240  \n",
       "1                            191  \n",
       "2                            275  \n",
       "3                            258  \n",
       "4                            253  "
      ]
     },
     "execution_count": 4,
     "metadata": {},
     "output_type": "execute_result"
    }
   ],
   "source": [
    "data.head()"
   ]
  },
  {
   "cell_type": "code",
   "execution_count": 5,
   "metadata": {},
   "outputs": [],
   "source": [
    "data1 = data.iloc[:,1:4]\n",
    "data2 = data.iloc[:,4:7]\n",
    "data3 = data.iloc[:,7:10]\n",
    "data4 = data.iloc[:,10:13]\n",
    "data5 = data.iloc[:,13:16]\n",
    "data6 = data.iloc[:,16:19]"
   ]
  },
  {
   "cell_type": "code",
   "execution_count": 6,
   "metadata": {},
   "outputs": [
    {
     "data": {
      "text/html": [
       "<div>\n",
       "<style scoped>\n",
       "    .dataframe tbody tr th:only-of-type {\n",
       "        vertical-align: middle;\n",
       "    }\n",
       "\n",
       "    .dataframe tbody tr th {\n",
       "        vertical-align: top;\n",
       "    }\n",
       "\n",
       "    .dataframe thead th {\n",
       "        text-align: right;\n",
       "    }\n",
       "</style>\n",
       "<table border=\"1\" class=\"dataframe\">\n",
       "  <thead>\n",
       "    <tr style=\"text-align: right;\">\n",
       "      <th></th>\n",
       "      <th>Guntur L2 Total traffic</th>\n",
       "      <th>Guntur L2 trucks and buses traffic</th>\n",
       "      <th>Guntur L2 multi-axial traffic</th>\n",
       "    </tr>\n",
       "  </thead>\n",
       "  <tbody>\n",
       "    <tr>\n",
       "      <th>0</th>\n",
       "      <td>5005</td>\n",
       "      <td>3233</td>\n",
       "      <td>240</td>\n",
       "    </tr>\n",
       "    <tr>\n",
       "      <th>1</th>\n",
       "      <td>5164</td>\n",
       "      <td>3548</td>\n",
       "      <td>191</td>\n",
       "    </tr>\n",
       "    <tr>\n",
       "      <th>2</th>\n",
       "      <td>5084</td>\n",
       "      <td>3300</td>\n",
       "      <td>275</td>\n",
       "    </tr>\n",
       "    <tr>\n",
       "      <th>3</th>\n",
       "      <td>5056</td>\n",
       "      <td>3202</td>\n",
       "      <td>258</td>\n",
       "    </tr>\n",
       "    <tr>\n",
       "      <th>4</th>\n",
       "      <td>5164</td>\n",
       "      <td>3197</td>\n",
       "      <td>253</td>\n",
       "    </tr>\n",
       "  </tbody>\n",
       "</table>\n",
       "</div>"
      ],
      "text/plain": [
       "   Guntur L2 Total traffic  Guntur L2 trucks and buses traffic  \\\n",
       "0                     5005                                3233   \n",
       "1                     5164                                3548   \n",
       "2                     5084                                3300   \n",
       "3                     5056                                3202   \n",
       "4                     5164                                3197   \n",
       "\n",
       "   Guntur L2 multi-axial traffic  \n",
       "0                            240  \n",
       "1                            191  \n",
       "2                            275  \n",
       "3                            258  \n",
       "4                            253  "
      ]
     },
     "execution_count": 6,
     "metadata": {},
     "output_type": "execute_result"
    }
   ],
   "source": [
    "data6.head()"
   ]
  },
  {
   "cell_type": "code",
   "execution_count": 7,
   "metadata": {},
   "outputs": [],
   "source": [
    "data1['date'] = pd.date_range('11/01/1995','31/12/1997')\n",
    "data2['date'] = pd.date_range('11/01/1995','31/12/1997')\n",
    "data3['date'] = pd.date_range('11/01/1995','31/12/1997')\n",
    "data4['date'] = pd.date_range('11/01/1995','31/12/1997')\n",
    "data5['date'] = pd.date_range('11/01/1995','31/12/1997')\n",
    "data6['date'] = pd.date_range('11/01/1995','31/12/1997')"
   ]
  },
  {
   "cell_type": "code",
   "execution_count": 8,
   "metadata": {},
   "outputs": [
    {
     "data": {
      "text/html": [
       "<div>\n",
       "<style scoped>\n",
       "    .dataframe tbody tr th:only-of-type {\n",
       "        vertical-align: middle;\n",
       "    }\n",
       "\n",
       "    .dataframe tbody tr th {\n",
       "        vertical-align: top;\n",
       "    }\n",
       "\n",
       "    .dataframe thead th {\n",
       "        text-align: right;\n",
       "    }\n",
       "</style>\n",
       "<table border=\"1\" class=\"dataframe\">\n",
       "  <thead>\n",
       "    <tr style=\"text-align: right;\">\n",
       "      <th></th>\n",
       "      <th>Jadcherla L1 Total traffic</th>\n",
       "      <th>Jadcherla L1 trucks and buses traffic</th>\n",
       "      <th>Jadcherla L1 multi-axial traffic</th>\n",
       "      <th>date</th>\n",
       "    </tr>\n",
       "  </thead>\n",
       "  <tbody>\n",
       "    <tr>\n",
       "      <th>0</th>\n",
       "      <td>2365</td>\n",
       "      <td>1618</td>\n",
       "      <td>76</td>\n",
       "      <td>1995-11-01</td>\n",
       "    </tr>\n",
       "    <tr>\n",
       "      <th>1</th>\n",
       "      <td>2529</td>\n",
       "      <td>1750</td>\n",
       "      <td>114</td>\n",
       "      <td>1995-11-02</td>\n",
       "    </tr>\n",
       "    <tr>\n",
       "      <th>2</th>\n",
       "      <td>2459</td>\n",
       "      <td>1657</td>\n",
       "      <td>96</td>\n",
       "      <td>1995-11-03</td>\n",
       "    </tr>\n",
       "    <tr>\n",
       "      <th>3</th>\n",
       "      <td>2517</td>\n",
       "      <td>1717</td>\n",
       "      <td>111</td>\n",
       "      <td>1995-11-04</td>\n",
       "    </tr>\n",
       "    <tr>\n",
       "      <th>4</th>\n",
       "      <td>2380</td>\n",
       "      <td>1478</td>\n",
       "      <td>136</td>\n",
       "      <td>1995-11-05</td>\n",
       "    </tr>\n",
       "  </tbody>\n",
       "</table>\n",
       "</div>"
      ],
      "text/plain": [
       "   Jadcherla L1 Total traffic  Jadcherla L1 trucks and buses traffic  \\\n",
       "0                        2365                                   1618   \n",
       "1                        2529                                   1750   \n",
       "2                        2459                                   1657   \n",
       "3                        2517                                   1717   \n",
       "4                        2380                                   1478   \n",
       "\n",
       "   Jadcherla L1 multi-axial traffic       date  \n",
       "0                                76 1995-11-01  \n",
       "1                               114 1995-11-02  \n",
       "2                                96 1995-11-03  \n",
       "3                               111 1995-11-04  \n",
       "4                               136 1995-11-05  "
      ]
     },
     "execution_count": 8,
     "metadata": {},
     "output_type": "execute_result"
    }
   ],
   "source": [
    "data1.head()"
   ]
  },
  {
   "cell_type": "code",
   "execution_count": 9,
   "metadata": {},
   "outputs": [
    {
     "data": {
      "text/plain": [
       "Text(0,0.5,'Total traffic')"
      ]
     },
     "execution_count": 9,
     "metadata": {},
     "output_type": "execute_result"
    },
    {
     "data": {
      "image/png": "[encoded data removed]",
      "text/plain": [
       "<Figure size 720x432 with 1 Axes>"
      ]
     },
     "metadata": {},
     "output_type": "display_data"
    }
   ],
   "source": [
    "plt.figure(figsize=(10,6))\n",
    "# plt.scatter(pd.date_range('11/01/1995','31/12/1997'),data4.iloc[:,0],marker='X')\n",
    "plt.scatter(pd.date_range('11/01/1995','31/12/1997'),data6.iloc[:,0],marker='x')\n",
    "# plt.scatter(pd.date_range('11/01/1995','31/12/1997'),data5.iloc[:,0],marker='+')\n",
    "plt.xlabel('Date')\n",
    "plt.ylabel('Total traffic')"
   ]
  },
  {
   "cell_type": "code",
   "execution_count": 10,
   "metadata": {},
   "outputs": [],
   "source": [
    "data1['day'] = data1['date'].dt.day\n",
    "data1['month'] = data1['date'].dt.month\n",
    "data1['year'] = data1['date'].dt.year"
   ]
  },
  {
   "cell_type": "code",
   "execution_count": 11,
   "metadata": {},
   "outputs": [],
   "source": [
    "data2['day'] = data1['date'].dt.day\n",
    "data2['month'] = data1['date'].dt.month\n",
    "data2['year'] = data1['date'].dt.year"
   ]
  },
  {
   "cell_type": "code",
   "execution_count": 12,
   "metadata": {},
   "outputs": [],
   "source": [
    "data3['day'] = data1['date'].dt.day\n",
    "data3['month'] = data1['date'].dt.month\n",
    "data3['year'] = data1['date'].dt.year"
   ]
  },
  {
   "cell_type": "code",
   "execution_count": 13,
   "metadata": {},
   "outputs": [],
   "source": [
    "data4['day'] = data1['date'].dt.day\n",
    "data4['month'] = data1['date'].dt.month\n",
    "data4['year'] = data1['date'].dt.year"
   ]
  },
  {
   "cell_type": "code",
   "execution_count": 14,
   "metadata": {},
   "outputs": [],
   "source": [
    "data5['day'] = data1['date'].dt.day\n",
    "data5['month'] = data1['date'].dt.month\n",
    "data5['year'] = data1['date'].dt.year"
   ]
  },
  {
   "cell_type": "code",
   "execution_count": 15,
   "metadata": {},
   "outputs": [],
   "source": [
    "data6['day'] = data1['date'].dt.day\n",
    "data6['month'] = data1['date'].dt.month\n",
    "data6['year'] = data1['date'].dt.year"
   ]
  },
  {
   "cell_type": "code",
   "execution_count": 16,
   "metadata": {},
   "outputs": [],
   "source": [
    "data1 = data1.drop('date',axis=1)"
   ]
  },
  {
   "cell_type": "code",
   "execution_count": 17,
   "metadata": {},
   "outputs": [],
   "source": [
    "data2 = data2.drop('date',axis=1)"
   ]
  },
  {
   "cell_type": "code",
   "execution_count": 18,
   "metadata": {},
   "outputs": [],
   "source": [
    "data3 = data3.drop('date',axis=1)"
   ]
  },
  {
   "cell_type": "code",
   "execution_count": 19,
   "metadata": {},
   "outputs": [],
   "source": [
    "data4 = data4.drop('date',axis=1)"
   ]
  },
  {
   "cell_type": "code",
   "execution_count": 20,
   "metadata": {},
   "outputs": [],
   "source": [
    "data5 = data5.drop('date',axis=1)"
   ]
  },
  {
   "cell_type": "code",
   "execution_count": 21,
   "metadata": {},
   "outputs": [],
   "source": [
    "data6 = data6.drop('date',axis=1)"
   ]
  },
  {
   "cell_type": "code",
   "execution_count": 22,
   "metadata": {},
   "outputs": [
    {
     "data": {
      "text/html": [
       "<div>\n",
       "<style scoped>\n",
       "    .dataframe tbody tr th:only-of-type {\n",
       "        vertical-align: middle;\n",
       "    }\n",
       "\n",
       "    .dataframe tbody tr th {\n",
       "        vertical-align: top;\n",
       "    }\n",
       "\n",
       "    .dataframe thead th {\n",
       "        text-align: right;\n",
       "    }\n",
       "</style>\n",
       "<table border=\"1\" class=\"dataframe\">\n",
       "  <thead>\n",
       "    <tr style=\"text-align: right;\">\n",
       "      <th></th>\n",
       "      <th>Jadcherla L1 Total traffic</th>\n",
       "      <th>Jadcherla L1 trucks and buses traffic</th>\n",
       "      <th>Jadcherla L1 multi-axial traffic</th>\n",
       "      <th>day</th>\n",
       "      <th>month</th>\n",
       "      <th>year</th>\n",
       "    </tr>\n",
       "  </thead>\n",
       "  <tbody>\n",
       "    <tr>\n",
       "      <th>0</th>\n",
       "      <td>2365</td>\n",
       "      <td>1618</td>\n",
       "      <td>76</td>\n",
       "      <td>1</td>\n",
       "      <td>11</td>\n",
       "      <td>1995</td>\n",
       "    </tr>\n",
       "    <tr>\n",
       "      <th>1</th>\n",
       "      <td>2529</td>\n",
       "      <td>1750</td>\n",
       "      <td>114</td>\n",
       "      <td>2</td>\n",
       "      <td>11</td>\n",
       "      <td>1995</td>\n",
       "    </tr>\n",
       "    <tr>\n",
       "      <th>2</th>\n",
       "      <td>2459</td>\n",
       "      <td>1657</td>\n",
       "      <td>96</td>\n",
       "      <td>3</td>\n",
       "      <td>11</td>\n",
       "      <td>1995</td>\n",
       "    </tr>\n",
       "    <tr>\n",
       "      <th>3</th>\n",
       "      <td>2517</td>\n",
       "      <td>1717</td>\n",
       "      <td>111</td>\n",
       "      <td>4</td>\n",
       "      <td>11</td>\n",
       "      <td>1995</td>\n",
       "    </tr>\n",
       "    <tr>\n",
       "      <th>4</th>\n",
       "      <td>2380</td>\n",
       "      <td>1478</td>\n",
       "      <td>136</td>\n",
       "      <td>5</td>\n",
       "      <td>11</td>\n",
       "      <td>1995</td>\n",
       "    </tr>\n",
       "  </tbody>\n",
       "</table>\n",
       "</div>"
      ],
      "text/plain": [
       "   Jadcherla L1 Total traffic  Jadcherla L1 trucks and buses traffic  \\\n",
       "0                        2365                                   1618   \n",
       "1                        2529                                   1750   \n",
       "2                        2459                                   1657   \n",
       "3                        2517                                   1717   \n",
       "4                        2380                                   1478   \n",
       "\n",
       "   Jadcherla L1 multi-axial traffic  day  month  year  \n",
       "0                                76    1     11  1995  \n",
       "1                               114    2     11  1995  \n",
       "2                                96    3     11  1995  \n",
       "3                               111    4     11  1995  \n",
       "4                               136    5     11  1995  "
      ]
     },
     "execution_count": 22,
     "metadata": {},
     "output_type": "execute_result"
    }
   ],
   "source": [
    "data1.head()"
   ]
  },
  {
   "cell_type": "code",
   "execution_count": 23,
   "metadata": {},
   "outputs": [],
   "source": [
    "# groupbyDay1 = data1.groupby('day')\n",
    "# groupbyMonth1 = data1.groupby('month') \n",
    "# groupbyYear1 = data1.groupby('year')"
   ]
  },
  {
   "cell_type": "code",
   "execution_count": 24,
   "metadata": {},
   "outputs": [],
   "source": [
    "# groupbyDay2 = data2.groupby('day')\n",
    "# groupbyMonth2 = data2.groupby('month') \n",
    "# groupbyYear2 = data2.groupby('year')"
   ]
  },
  {
   "cell_type": "code",
   "execution_count": 25,
   "metadata": {},
   "outputs": [],
   "source": [
    "# groupbyDay3 = data3.groupby('day')\n",
    "# groupbyMonth3 = data3.groupby('month') \n",
    "# groupbyYear3 = data3.groupby('year')"
   ]
  },
  {
   "cell_type": "code",
   "execution_count": 26,
   "metadata": {},
   "outputs": [],
   "source": [
    "# groupbyDay4 = data4.groupby('day')\n",
    "# groupbyMonth4 = data4.groupby('month') \n",
    "# groupbyYear4 = data4.groupby('year')"
   ]
  },
  {
   "cell_type": "code",
   "execution_count": 27,
   "metadata": {},
   "outputs": [],
   "source": [
    "# groupbyDay5 = data5.groupby('day')\n",
    "# groupbyMonth5 = data5.groupby('month') \n",
    "# groupbyYear5 = data5.groupby('year')"
   ]
  },
  {
   "cell_type": "code",
   "execution_count": 28,
   "metadata": {},
   "outputs": [],
   "source": [
    "# groupbyDay6 = data6.groupby('day')\n",
    "# groupbyMonth6 = data6.groupby('month') \n",
    "# groupbyYear6 = data6.groupby('year')"
   ]
  },
  {
   "cell_type": "code",
   "execution_count": 29,
   "metadata": {},
   "outputs": [],
   "source": [
    "# groupbyDay1.first()\n",
    "# groupbyMonth1.first()\n",
    "# groupbyYear1.first()"
   ]
  },
  {
   "cell_type": "code",
   "execution_count": 30,
   "metadata": {},
   "outputs": [],
   "source": [
    "# groupbyDay2.first()\n",
    "# groupbyMonth2.first()\n",
    "# groupbyYear2.first()"
   ]
  },
  {
   "cell_type": "code",
   "execution_count": 31,
   "metadata": {},
   "outputs": [],
   "source": [
    "# groupbyDay3.first()\n",
    "# groupbyMonth3.first()\n",
    "# groupbyYear3.first()"
   ]
  },
  {
   "cell_type": "code",
   "execution_count": 32,
   "metadata": {},
   "outputs": [],
   "source": [
    "# groupbyDay4.first()\n",
    "# groupbyMonth4.first()\n",
    "# groupbyYear4.first()"
   ]
  },
  {
   "cell_type": "code",
   "execution_count": 33,
   "metadata": {},
   "outputs": [],
   "source": [
    "# groupbyDay5.first()\n",
    "# groupbyMonth5.first()\n",
    "# groupbyYear5.first()"
   ]
  },
  {
   "cell_type": "code",
   "execution_count": 34,
   "metadata": {},
   "outputs": [],
   "source": [
    "# groupbyDay6.first()\n",
    "# groupbyMonth6.first()\n",
    "# groupbyYear6.first()"
   ]
  },
  {
   "cell_type": "code",
   "execution_count": 35,
   "metadata": {},
   "outputs": [],
   "source": [
    "X = data1.iloc[:,1:].values\n",
    "y = data1.iloc[:,0].values"
   ]
  },
  {
   "cell_type": "code",
   "execution_count": 36,
   "metadata": {},
   "outputs": [
    {
     "data": {
      "text/plain": [
       "array([[1618,   76,    1,   11, 1995],\n",
       "       [1750,  114,    2,   11, 1995],\n",
       "       [1657,   96,    3,   11, 1995],\n",
       "       ...,\n",
       "       [2533,  171,   29,   12, 1997],\n",
       "       [2265,  139,   30,   12, 1997],\n",
       "       [2265,  139,   31,   12, 1997]], dtype=int64)"
      ]
     },
     "execution_count": 36,
     "metadata": {},
     "output_type": "execute_result"
    }
   ],
   "source": [
    "X"
   ]
  },
  {
   "cell_type": "code",
   "execution_count": 37,
   "metadata": {},
   "outputs": [
    {
     "name": "stderr",
     "output_type": "stream",
     "text": [
      "C:\\Users\\tiwar\\Anaconda3\\lib\\site-packages\\matplotlib\\axes\\_axes.py:6462: UserWarning: The 'normed' kwarg is deprecated, and has been replaced by the 'density' kwarg.\n",
      "  warnings.warn(\"The 'normed' kwarg is deprecated, and has been \"\n",
      "C:\\Users\\tiwar\\Anaconda3\\lib\\site-packages\\matplotlib\\axes\\_axes.py:6462: UserWarning: The 'normed' kwarg is deprecated, and has been replaced by the 'density' kwarg.\n",
      "  warnings.warn(\"The 'normed' kwarg is deprecated, and has been \"\n"
     ]
    },
    {
     "data": {
      "text/plain": [
       "<seaborn.axisgrid.JointGrid at 0x1c2318cc2b0>"
      ]
     },
     "execution_count": 37,
     "metadata": {},
     "output_type": "execute_result"
    },
    {
     "data": {
      "image/png": "[encoded data removed]",
      "text/plain": [
       "<Figure size 432x432 with 3 Axes>"
      ]
     },
     "metadata": {},
     "output_type": "display_data"
    }
   ],
   "source": [
    "# plt.figure(figsize=(10,6))\n",
    "# plt.scatter(data1['day'],y,color='red')\n",
    "sns.jointplot(x=data1['month'],y=y,data=data1,kind='scatter')"
   ]
  },
  {
   "cell_type": "code",
   "execution_count": 38,
   "metadata": {},
   "outputs": [
    {
     "name": "stderr",
     "output_type": "stream",
     "text": [
      "C:\\Users\\tiwar\\Anaconda3\\lib\\site-packages\\matplotlib\\axes\\_axes.py:6462: UserWarning: The 'normed' kwarg is deprecated, and has been replaced by the 'density' kwarg.\n",
      "  warnings.warn(\"The 'normed' kwarg is deprecated, and has been \"\n",
      "C:\\Users\\tiwar\\Anaconda3\\lib\\site-packages\\matplotlib\\axes\\_axes.py:6462: UserWarning: The 'normed' kwarg is deprecated, and has been replaced by the 'density' kwarg.\n",
      "  warnings.warn(\"The 'normed' kwarg is deprecated, and has been \"\n"
     ]
    },
    {
     "data": {
      "text/plain": [
       "<seaborn.axisgrid.JointGrid at 0x1c23192ce48>"
      ]
     },
     "execution_count": 38,
     "metadata": {},
     "output_type": "execute_result"
    },
    {
     "data": {
      "image/png": "[encoded data removed]",
      "text/plain": [
       "<Figure size 432x432 with 3 Axes>"
      ]
     },
     "metadata": {},
     "output_type": "display_data"
    }
   ],
   "source": [
    "sns.jointplot(x=data1['day'],y=y,data=data1,kind='scatter')"
   ]
  },
  {
   "cell_type": "code",
   "execution_count": 39,
   "metadata": {},
   "outputs": [
    {
     "data": {
      "text/plain": [
       "array([[1618,   76,    1,   11, 1995],\n",
       "       [1750,  114,    2,   11, 1995],\n",
       "       [1657,   96,    3,   11, 1995],\n",
       "       ...,\n",
       "       [2533,  171,   29,   12, 1997],\n",
       "       [2265,  139,   30,   12, 1997],\n",
       "       [2265,  139,   31,   12, 1997]], dtype=int64)"
      ]
     },
     "execution_count": 39,
     "metadata": {},
     "output_type": "execute_result"
    }
   ],
   "source": [
    "X"
   ]
  },
  {
   "cell_type": "code",
   "execution_count": 40,
   "metadata": {},
   "outputs": [
    {
     "data": {
      "text/plain": [
       "array([2365, 2529, 2459, 2517, 2380, 2382, 2357, 2525, 2322, 2658, 2422,\n",
       "       2443, 2357, 2368, 2392, 2305, 2522, 2488, 2454, 2396, 2514, 2468,\n",
       "       2628, 2459, 2466, 2493, 2771, 2858, 2456, 2383, 2414, 2569, 2494,\n",
       "       2285, 2463, 2399, 2553, 2416, 2391, 2416, 2414, 2553, 2494, 2565,\n",
       "       2399, 2338, 2802, 2899, 2492, 2417, 2529, 2501, 2494, 2666, 2503,\n",
       "       2550, 2430, 2489, 2524, 2558, 2612, 2584, 2763, 2686, 2750, 2602,\n",
       "       2603, 2576, 2603, 2705, 2584, 2654, 2462, 2696, 2768, 2602, 2818,\n",
       "       2756, 2682, 2618, 2719, 2747, 2696, 2872, 2687, 2696, 2685, 2604,\n",
       "       3124, 3019, 2519, 2793, 2885, 2849, 2972, 2986, 2904, 2795, 2765,\n",
       "       2643, 2952, 2795, 2884, 2786, 2967, 2925, 2919, 2811, 2885, 3083,\n",
       "       2948, 2893, 2959, 2895, 3742, 3354, 2882, 2894, 2795, 2705, 2920,\n",
       "       2786, 2752, 2865, 2610, 2751, 2906, 2893, 2725, 2938, 2805, 2846,\n",
       "       2936, 2756, 2881, 2662, 2849, 2932, 3305, 2752, 2855, 2932, 2859,\n",
       "       3035, 3182, 2836, 2902, 2872, 2865, 2693, 2762, 2928, 2795, 2836,\n",
       "       2747, 2926, 2872, 2715, 2883, 2896, 2602, 2896, 2796, 2759, 2912,\n",
       "       2741, 2826, 3177, 2862, 2966, 2692, 2892, 2786, 2653, 3024, 2839,\n",
       "       2822, 3294, 2742, 2845, 2849, 3011, 2852, 2833, 2994, 2892, 2692,\n",
       "       2994, 2893, 2789, 3086, 2975, 2995, 2912, 2888, 3058, 2989, 2880,\n",
       "       2742, 2959, 2935, 3127, 3022, 3065, 2865, 3406, 2835, 2942, 2945,\n",
       "       3163, 3275, 2922, 3154, 3179, 3176, 3060, 3093, 3309, 3415, 3535,\n",
       "       3676, 3262, 3376, 3168, 3194, 2960, 3109, 3232, 3120, 2078, 3239,\n",
       "       2906, 3123, 3011, 3212, 3233, 3059, 3144, 3343, 3118, 3302, 3252,\n",
       "       3119, 3094, 3297, 3185, 3232, 3026, 2892, 3452, 3335, 3590, 3102,\n",
       "       3022, 2988, 3105, 3080, 3176, 3045, 3265, 3070, 2986, 3225, 3158,\n",
       "       2945, 3137, 3049, 3663, 2845, 3005, 3048, 3157, 3096, 3204, 3096,\n",
       "       3142, 2942, 3242, 2811, 3356, 3031, 3007, 3015, 2938, 2904, 3481,\n",
       "       3082, 2995, 3009, 3068, 2920, 2921, 2964, 3049, 2962, 3075, 2963,\n",
       "       2766, 3069, 3173, 2949, 3087, 2960, 3225, 2858, 3266, 3159, 3097,\n",
       "       3056, 2955, 2998, 3094, 3203, 2886, 2892, 2683, 2870, 2887, 2771,\n",
       "       2832, 2954, 2822, 3036, 2937, 3086, 2647, 2942, 2843, 2742, 2917,\n",
       "       2836, 2795, 2794, 2879, 2944, 3135, 2865, 2996, 3064, 3040, 3174,\n",
       "       3168, 3149, 3178, 3515, 3394, 3584, 3467, 3398, 3159, 3066, 3098,\n",
       "       3112, 3009, 3206, 3228, 3119, 2905, 3387, 3222, 3332, 3097, 3242,\n",
       "       3107, 3225, 3164, 3089, 3112, 3089, 3115, 3216, 3106, 2893, 3065,\n",
       "       2640, 2786, 2932, 2664, 2983, 2899, 2893, 2765, 2646, 2932, 3165,\n",
       "       2864, 3169, 3075, 2966, 2787, 2938, 3165, 3049, 2938, 3016, 3118,\n",
       "       3064, 3392, 3286, 3385, 3507, 3387, 3154, 2878, 3037, 3197, 3498,\n",
       "       2908, 3255, 3153, 3289, 3203, 3325, 3451, 3203, 3039, 3234, 3353,\n",
       "       3455, 3124, 3450, 3196, 2885, 3014, 3154, 3098, 2899, 3282, 3319,\n",
       "       3129, 3224, 3562, 3298, 3458, 3570, 3681, 3152, 3691, 3425, 3318,\n",
       "       3365, 3564, 3198, 3403, 3386, 3529, 3632, 3497, 3371, 3636, 3485,\n",
       "       3461, 3586, 3375, 3589, 3361, 3287, 3842, 3628, 3577, 3264, 3578,\n",
       "       3538, 3475, 3373, 3555, 3728, 3968, 3840, 3848, 3979, 3692, 3785,\n",
       "       3632, 3650, 3430, 3616, 3751, 3895, 3799, 3738, 3846, 3620, 3849,\n",
       "       3712, 3702, 3519, 3823, 3425, 3495, 3447, 3446, 3409, 3348, 3145,\n",
       "       3250, 3698, 3635, 3834, 3708, 3553, 3370, 3586, 3568, 3718, 3827,\n",
       "       3732, 3675, 3685, 3779, 3558, 3782, 3652, 3489, 3715, 3489, 3650,\n",
       "       3446, 3377, 3769, 3470, 3398, 3399, 3302, 3201, 3362, 3204, 3584,\n",
       "       3656, 3752, 3646, 3536, 3666, 3518, 3574, 3323, 3503, 3624, 3633,\n",
       "       3684, 3509, 3729, 3726, 3440, 3663, 3602, 3551, 3576, 3502, 3413,\n",
       "       3598, 3482, 3762, 3498, 3885, 3302, 3465, 3768, 3867, 3759, 3384,\n",
       "       3778, 3684, 3644, 3425, 3611, 3626, 3735, 3744, 3797, 3616, 3584,\n",
       "       3712, 3545, 3776, 3843, 3839, 3789, 3736, 3626, 3815, 3699, 3823,\n",
       "       3717, 3997, 3508, 3998, 3595, 3681, 4108, 4127, 4003, 3852, 4084,\n",
       "       3914, 3872, 4014, 3836, 3807, 4014, 3639, 3766, 4098, 3984, 3784,\n",
       "       3944, 3968, 3722, 3943, 3771, 3686, 3661, 3578, 3649, 3764, 3545,\n",
       "       3464, 4055, 3949, 4027, 3631, 3944, 3786, 4028, 3959, 4161, 3962,\n",
       "       3802, 3959, 3755, 3715, 3592, 4042, 3915, 4001, 3892, 3733, 3930,\n",
       "       3860, 3609, 3503, 3584, 3694, 3643, 3394, 3575, 3555, 3861, 3942,\n",
       "       3866, 3470, 3969, 3685, 3637, 3516, 3917, 3875, 3811, 3832, 3847,\n",
       "       3654, 3959, 4073, 3869, 3875, 3676, 3722, 3944, 3708, 3689, 3755,\n",
       "       3683, 3677, 3781, 3510, 3337, 3414, 3519, 3470, 3233, 3406, 3386,\n",
       "       3306, 3438, 3422, 3745, 3556, 3539, 3839, 3731, 3709, 3893, 3812,\n",
       "       3964, 3771, 3622, 3578, 3769, 3853, 3838, 3940, 3845, 3656, 3914,\n",
       "       3369, 3832, 3616, 3550, 3583, 3667, 3445, 3529, 3559, 3478, 3688,\n",
       "       3930, 3939, 3567, 3729, 4015, 3706, 3973, 4131, 3576, 4000, 4057,\n",
       "       3927, 3865, 3706, 3903, 3756, 3731, 3735, 3639, 3652, 3665, 3496,\n",
       "       3464, 3585, 3284, 3659, 3384, 3418, 3447, 3211, 3402, 3555, 3787,\n",
       "       3967, 3724, 3533, 3515, 3308, 3746, 3867, 3741, 3827, 3822, 3533,\n",
       "       3684, 3776, 3884, 3763, 3707, 3615, 3564, 3582, 3858, 3783, 3468,\n",
       "       3596, 3790, 3862, 3535, 3554, 3678, 3855, 3952, 3654, 3875, 3957,\n",
       "       3518, 3910, 3916, 3812, 3422, 3665, 3992, 3869, 3634, 3654, 3654],\n",
       "      dtype=int64)"
      ]
     },
     "execution_count": 40,
     "metadata": {},
     "output_type": "execute_result"
    }
   ],
   "source": [
    "y"
   ]
  },
  {
   "cell_type": "code",
   "execution_count": 41,
   "metadata": {},
   "outputs": [],
   "source": [
    "y = y.reshape(-1,1)"
   ]
  },
  {
   "cell_type": "code",
   "execution_count": 42,
   "metadata": {},
   "outputs": [],
   "source": [
    "from sklearn.svm import SVR\n",
    "from sklearn.model_selection import GridSearchCV, cross_validate\n",
    "from sklearn.utils import shuffle\n",
    "from sklearn.preprocessing import MinMaxScaler"
   ]
  },
  {
   "cell_type": "code",
   "execution_count": 43,
   "metadata": {},
   "outputs": [],
   "source": [
    "scaler = MinMaxScaler(feature_range=(0,1))"
   ]
  },
  {
   "cell_type": "code",
   "execution_count": 44,
   "metadata": {},
   "outputs": [
    {
     "name": "stderr",
     "output_type": "stream",
     "text": [
      "C:\\Users\\tiwar\\Anaconda3\\lib\\site-packages\\sklearn\\utils\\validation.py:475: DataConversionWarning: Data with input dtype int64 was converted to float64 by MinMaxScaler.\n",
      "  warnings.warn(msg, DataConversionWarning)\n",
      "C:\\Users\\tiwar\\Anaconda3\\lib\\site-packages\\sklearn\\utils\\validation.py:475: DataConversionWarning: Data with input dtype int64 was converted to float64 by MinMaxScaler.\n",
      "  warnings.warn(msg, DataConversionWarning)\n"
     ]
    }
   ],
   "source": [
    "X = scaler.fit_transform(X)\n",
    "y = scaler.fit_transform(y)"
   ]
  },
  {
   "cell_type": "code",
   "execution_count": 45,
   "metadata": {},
   "outputs": [
    {
     "data": {
      "text/plain": [
       "array([[0.41366719, 0.        , 0.        , 0.90909091, 0.        ],\n",
       "       [0.48252478, 0.0450237 , 0.03333333, 0.90909091, 0.        ],\n",
       "       [0.43401148, 0.02369668, 0.06666667, 0.90909091, 0.        ],\n",
       "       ...,\n",
       "       [0.89097548, 0.11255924, 0.93333333, 1.        , 1.        ],\n",
       "       [0.75117371, 0.07464455, 0.96666667, 1.        , 1.        ],\n",
       "       [0.75117371, 0.07464455, 1.        , 1.        , 1.        ]])"
      ]
     },
     "execution_count": 45,
     "metadata": {},
     "output_type": "execute_result"
    }
   ],
   "source": [
    "X"
   ]
  },
  {
   "cell_type": "code",
   "execution_count": 46,
   "metadata": {},
   "outputs": [
    {
     "data": {
      "text/plain": [
       "array([[0.13778205],\n",
       "       [0.21651464],\n",
       "       [0.18290927],\n",
       "       [0.21075372],\n",
       "       [0.1449832 ],\n",
       "       [0.14594335],\n",
       "       [0.13394143],\n",
       "       [0.21459434],\n",
       "       [0.11713874],\n",
       "       [0.27844455],\n",
       "       [0.16514642],\n",
       "       [0.17522804],\n",
       "       [0.13394143],\n",
       "       [0.13922228],\n",
       "       [0.15074412],\n",
       "       [0.10897744],\n",
       "       [0.2131541 ],\n",
       "       [0.19683149],\n",
       "       [0.18050888],\n",
       "       [0.15266443],\n",
       "       [0.20931349],\n",
       "       [0.18722996],\n",
       "       [0.26404225],\n",
       "       [0.18290927],\n",
       "       [0.1862698 ],\n",
       "       [0.19923188],\n",
       "       [0.33269323],\n",
       "       [0.37445991],\n",
       "       [0.18146904],\n",
       "       [0.14642343],\n",
       "       [0.16130581],\n",
       "       [0.23571771],\n",
       "       [0.19971195],\n",
       "       [0.0993759 ],\n",
       "       [0.18482957],\n",
       "       [0.15410466],\n",
       "       [0.22803649],\n",
       "       [0.16226596],\n",
       "       [0.15026404],\n",
       "       [0.16226596],\n",
       "       [0.16130581],\n",
       "       [0.22803649],\n",
       "       [0.19971195],\n",
       "       [0.23379741],\n",
       "       [0.15410466],\n",
       "       [0.12481997],\n",
       "       [0.34757561],\n",
       "       [0.39414306],\n",
       "       [0.1987518 ],\n",
       "       [0.16274604],\n",
       "       [0.21651464],\n",
       "       [0.20307249],\n",
       "       [0.19971195],\n",
       "       [0.28228517],\n",
       "       [0.20403265],\n",
       "       [0.22659626],\n",
       "       [0.16898704],\n",
       "       [0.19731157],\n",
       "       [0.21411426],\n",
       "       [0.23043687],\n",
       "       [0.25636102],\n",
       "       [0.24291887],\n",
       "       [0.32885262],\n",
       "       [0.2918867 ],\n",
       "       [0.32261162],\n",
       "       [0.25156025],\n",
       "       [0.25204033],\n",
       "       [0.23907825],\n",
       "       [0.25204033],\n",
       "       [0.30100816],\n",
       "       [0.24291887],\n",
       "       [0.27652424],\n",
       "       [0.1843495 ],\n",
       "       [0.29668747],\n",
       "       [0.331253  ],\n",
       "       [0.25156025],\n",
       "       [0.35525684],\n",
       "       [0.32549208],\n",
       "       [0.28996639],\n",
       "       [0.25924148],\n",
       "       [0.30772924],\n",
       "       [0.32117139],\n",
       "       [0.29668747],\n",
       "       [0.38118099],\n",
       "       [0.29236678],\n",
       "       [0.29668747],\n",
       "       [0.29140663],\n",
       "       [0.2525204 ],\n",
       "       [0.50216035],\n",
       "       [0.45175228],\n",
       "       [0.21171387],\n",
       "       [0.34325492],\n",
       "       [0.38742199],\n",
       "       [0.37013922],\n",
       "       [0.42918867],\n",
       "       [0.43590975],\n",
       "       [0.39654345],\n",
       "       [0.34421507],\n",
       "       [0.32981277],\n",
       "       [0.2712434 ],\n",
       "       [0.41958713],\n",
       "       [0.34421507],\n",
       "       [0.38694191],\n",
       "       [0.33989438],\n",
       "       [0.42678829],\n",
       "       [0.40662506],\n",
       "       [0.4037446 ],\n",
       "       [0.3518963 ],\n",
       "       [0.38742199],\n",
       "       [0.4824772 ],\n",
       "       [0.41766683],\n",
       "       [0.3912626 ],\n",
       "       [0.42294767],\n",
       "       [0.39222276],\n",
       "       [0.79884782],\n",
       "       [0.61257801],\n",
       "       [0.38598176],\n",
       "       [0.39174268],\n",
       "       [0.34421507],\n",
       "       [0.30100816],\n",
       "       [0.40422468],\n",
       "       [0.33989438],\n",
       "       [0.32357177],\n",
       "       [0.37782045],\n",
       "       [0.25540086],\n",
       "       [0.32309169],\n",
       "       [0.3975036 ],\n",
       "       [0.3912626 ],\n",
       "       [0.3106097 ],\n",
       "       [0.41286606],\n",
       "       [0.34901584],\n",
       "       [0.36869899],\n",
       "       [0.4119059 ],\n",
       "       [0.32549208],\n",
       "       [0.38550168],\n",
       "       [0.28036486],\n",
       "       [0.37013922],\n",
       "       [0.4099856 ],\n",
       "       [0.58905425],\n",
       "       [0.32357177],\n",
       "       [0.37301968],\n",
       "       [0.4099856 ],\n",
       "       [0.37493999],\n",
       "       [0.45943351],\n",
       "       [0.5300048 ],\n",
       "       [0.36389822],\n",
       "       [0.39558329],\n",
       "       [0.38118099],\n",
       "       [0.37782045],\n",
       "       [0.29524724],\n",
       "       [0.32837254],\n",
       "       [0.40806529],\n",
       "       [0.34421507],\n",
       "       [0.36389822],\n",
       "       [0.32117139],\n",
       "       [0.40710514],\n",
       "       [0.38118099],\n",
       "       [0.30580893],\n",
       "       [0.38646183],\n",
       "       [0.39270283],\n",
       "       [0.25156025],\n",
       "       [0.39270283],\n",
       "       [0.34469515],\n",
       "       [0.32693231],\n",
       "       [0.40038406],\n",
       "       [0.31829093],\n",
       "       [0.35909746],\n",
       "       [0.52760442],\n",
       "       [0.37638022],\n",
       "       [0.42630821],\n",
       "       [0.29476716],\n",
       "       [0.39078253],\n",
       "       [0.33989438],\n",
       "       [0.27604417],\n",
       "       [0.45415266],\n",
       "       [0.36533845],\n",
       "       [0.35717715],\n",
       "       [0.5837734 ],\n",
       "       [0.318771  ],\n",
       "       [0.36821892],\n",
       "       [0.37013922],\n",
       "       [0.44791167],\n",
       "       [0.37157945],\n",
       "       [0.36245799],\n",
       "       [0.43975036],\n",
       "       [0.39078253],\n",
       "       [0.29476716],\n",
       "       [0.43975036],\n",
       "       [0.3912626 ],\n",
       "       [0.34133461],\n",
       "       [0.48391743],\n",
       "       [0.4306289 ],\n",
       "       [0.44023044],\n",
       "       [0.40038406],\n",
       "       [0.38886222],\n",
       "       [0.47047528],\n",
       "       [0.43734998],\n",
       "       [0.3850216 ],\n",
       "       [0.318771  ],\n",
       "       [0.42294767],\n",
       "       [0.41142583],\n",
       "       [0.50360058],\n",
       "       [0.45319251],\n",
       "       [0.47383581],\n",
       "       [0.37782045],\n",
       "       [0.63754201],\n",
       "       [0.36341815],\n",
       "       [0.41478637],\n",
       "       [0.4162266 ],\n",
       "       [0.52088334],\n",
       "       [0.57465194],\n",
       "       [0.40518483],\n",
       "       [0.51656265],\n",
       "       [0.52856457],\n",
       "       [0.52712434],\n",
       "       [0.47143543],\n",
       "       [0.48727796],\n",
       "       [0.59097456],\n",
       "       [0.6418627 ],\n",
       "       [0.69947192],\n",
       "       [0.76716275],\n",
       "       [0.56841095],\n",
       "       [0.6231397 ],\n",
       "       [0.52328373],\n",
       "       [0.53576572],\n",
       "       [0.42342775],\n",
       "       [0.49495919],\n",
       "       [0.55400864],\n",
       "       [0.50024004],\n",
       "       [0.        ],\n",
       "       [0.55736918],\n",
       "       [0.3975036 ],\n",
       "       [0.50168027],\n",
       "       [0.44791167],\n",
       "       [0.54440711],\n",
       "       [0.55448872],\n",
       "       [0.47095535],\n",
       "       [0.51176188],\n",
       "       [0.60729717],\n",
       "       [0.49927988],\n",
       "       [0.58761402],\n",
       "       [0.56361018],\n",
       "       [0.49975996],\n",
       "       [0.48775804],\n",
       "       [0.58521363],\n",
       "       [0.53144503],\n",
       "       [0.55400864],\n",
       "       [0.45511282],\n",
       "       [0.39078253],\n",
       "       [0.65962554],\n",
       "       [0.60345655],\n",
       "       [0.72587614],\n",
       "       [0.49159866],\n",
       "       [0.45319251],\n",
       "       [0.4368699 ],\n",
       "       [0.49303889],\n",
       "       [0.48103697],\n",
       "       [0.52712434],\n",
       "       [0.46423428],\n",
       "       [0.56985118],\n",
       "       [0.4762362 ],\n",
       "       [0.43590975],\n",
       "       [0.5506481 ],\n",
       "       [0.51848296],\n",
       "       [0.4162266 ],\n",
       "       [0.50840134],\n",
       "       [0.46615458],\n",
       "       [0.76092175],\n",
       "       [0.36821892],\n",
       "       [0.4450312 ],\n",
       "       [0.46567451],\n",
       "       [0.51800288],\n",
       "       [0.48871819],\n",
       "       [0.54056649],\n",
       "       [0.48871819],\n",
       "       [0.51080173],\n",
       "       [0.41478637],\n",
       "       [0.55880941],\n",
       "       [0.3518963 ],\n",
       "       [0.61353817],\n",
       "       [0.4575132 ],\n",
       "       [0.44599136],\n",
       "       [0.44983197],\n",
       "       [0.41286606],\n",
       "       [0.39654345],\n",
       "       [0.67354777],\n",
       "       [0.48199712],\n",
       "       [0.44023044],\n",
       "       [0.44695151],\n",
       "       [0.47527604],\n",
       "       [0.40422468],\n",
       "       [0.40470475],\n",
       "       [0.42534806],\n",
       "       [0.46615458],\n",
       "       [0.4243879 ],\n",
       "       [0.47863658],\n",
       "       [0.42486798],\n",
       "       [0.33029285],\n",
       "       [0.47575612],\n",
       "       [0.52568411],\n",
       "       [0.4181469 ],\n",
       "       [0.4843975 ],\n",
       "       [0.42342775],\n",
       "       [0.5506481 ],\n",
       "       [0.37445991],\n",
       "       [0.57033125],\n",
       "       [0.51896303],\n",
       "       [0.48919827],\n",
       "       [0.46951512],\n",
       "       [0.42102736],\n",
       "       [0.44167067],\n",
       "       [0.48775804],\n",
       "       [0.54008641],\n",
       "       [0.38790206],\n",
       "       [0.39078253],\n",
       "       [0.29044647],\n",
       "       [0.38022084],\n",
       "       [0.38838214],\n",
       "       [0.33269323],\n",
       "       [0.36197792],\n",
       "       [0.42054729],\n",
       "       [0.35717715],\n",
       "       [0.45991359],\n",
       "       [0.41238598],\n",
       "       [0.48391743],\n",
       "       [0.27316371],\n",
       "       [0.41478637],\n",
       "       [0.36725876],\n",
       "       [0.318771  ],\n",
       "       [0.40278445],\n",
       "       [0.36389822],\n",
       "       [0.34421507],\n",
       "       [0.343735  ],\n",
       "       [0.38454153],\n",
       "       [0.41574652],\n",
       "       [0.50744119],\n",
       "       [0.37782045],\n",
       "       [0.44071051],\n",
       "       [0.47335574],\n",
       "       [0.46183389],\n",
       "       [0.52616419],\n",
       "       [0.52328373],\n",
       "       [0.51416227],\n",
       "       [0.52808449],\n",
       "       [0.68987038],\n",
       "       [0.63178108],\n",
       "       [0.72299568],\n",
       "       [0.66682669],\n",
       "       [0.63370139],\n",
       "       [0.51896303],\n",
       "       [0.47431589],\n",
       "       [0.48967835],\n",
       "       [0.49639942],\n",
       "       [0.44695151],\n",
       "       [0.54152664],\n",
       "       [0.55208833],\n",
       "       [0.49975996],\n",
       "       [0.39702352],\n",
       "       [0.62842055],\n",
       "       [0.54920787],\n",
       "       [0.60201632],\n",
       "       [0.48919827],\n",
       "       [0.55880941],\n",
       "       [0.49399904],\n",
       "       [0.5506481 ],\n",
       "       [0.52136342],\n",
       "       [0.48535766],\n",
       "       [0.49639942],\n",
       "       [0.48535766],\n",
       "       [0.49783965],\n",
       "       [0.54632741],\n",
       "       [0.49351896],\n",
       "       [0.3912626 ],\n",
       "       [0.47383581],\n",
       "       [0.26980317],\n",
       "       [0.33989438],\n",
       "       [0.4099856 ],\n",
       "       [0.28132501],\n",
       "       [0.43446952],\n",
       "       [0.39414306],\n",
       "       [0.3912626 ],\n",
       "       [0.32981277],\n",
       "       [0.27268363],\n",
       "       [0.4099856 ],\n",
       "       [0.52184349],\n",
       "       [0.37734037],\n",
       "       [0.5237638 ],\n",
       "       [0.47863658],\n",
       "       [0.42630821],\n",
       "       [0.34037446],\n",
       "       [0.41286606],\n",
       "       [0.52184349],\n",
       "       [0.46615458],\n",
       "       [0.41286606],\n",
       "       [0.45031205],\n",
       "       [0.49927988],\n",
       "       [0.47335574],\n",
       "       [0.63082093],\n",
       "       [0.57993279],\n",
       "       [0.62746039],\n",
       "       [0.68602976],\n",
       "       [0.62842055],\n",
       "       [0.51656265],\n",
       "       [0.38406145],\n",
       "       [0.46039366],\n",
       "       [0.53720595],\n",
       "       [0.68170907],\n",
       "       [0.39846375],\n",
       "       [0.56505041],\n",
       "       [0.51608257],\n",
       "       [0.58137302],\n",
       "       [0.54008641],\n",
       "       [0.59865578],\n",
       "       [0.65914546],\n",
       "       [0.54008641],\n",
       "       [0.46135382],\n",
       "       [0.5549688 ],\n",
       "       [0.61209794],\n",
       "       [0.66106577],\n",
       "       [0.50216035],\n",
       "       [0.65866539],\n",
       "       [0.53672588],\n",
       "       [0.38742199],\n",
       "       [0.4493519 ],\n",
       "       [0.51656265],\n",
       "       [0.48967835],\n",
       "       [0.39414306],\n",
       "       [0.57801248],\n",
       "       [0.59577532],\n",
       "       [0.50456073],\n",
       "       [0.55016803],\n",
       "       [0.71243399],\n",
       "       [0.58569371],\n",
       "       [0.662506  ],\n",
       "       [0.7162746 ],\n",
       "       [0.76956313],\n",
       "       [0.5156025 ],\n",
       "       [0.7743639 ],\n",
       "       [0.64666347],\n",
       "       [0.59529525],\n",
       "       [0.61785886],\n",
       "       [0.71339414],\n",
       "       [0.53768603],\n",
       "       [0.63610178],\n",
       "       [0.62794047],\n",
       "       [0.69659145],\n",
       "       [0.74603937],\n",
       "       [0.681229  ],\n",
       "       [0.62073932],\n",
       "       [0.74795967],\n",
       "       [0.67546807],\n",
       "       [0.66394623],\n",
       "       [0.72395583],\n",
       "       [0.62265963],\n",
       "       [0.72539606],\n",
       "       [0.61593855],\n",
       "       [0.58041287],\n",
       "       [0.8468555 ],\n",
       "       [0.74411906],\n",
       "       [0.71963514],\n",
       "       [0.5693711 ],\n",
       "       [0.72011522],\n",
       "       [0.70091215],\n",
       "       [0.67066731],\n",
       "       [0.62169947],\n",
       "       [0.70907345],\n",
       "       [0.79212674],\n",
       "       [0.90734518],\n",
       "       [0.84589534],\n",
       "       [0.84973596],\n",
       "       [0.91262602],\n",
       "       [0.77484398],\n",
       "       [0.81949112],\n",
       "       [0.74603937],\n",
       "       [0.75468075],\n",
       "       [0.64906385],\n",
       "       [0.73835814],\n",
       "       [0.80316851],\n",
       "       [0.87229957],\n",
       "       [0.82621219],\n",
       "       [0.79692751],\n",
       "       [0.8487758 ],\n",
       "       [0.74027844],\n",
       "       [0.85021603],\n",
       "       [0.78444551],\n",
       "       [0.77964474],\n",
       "       [0.69179069],\n",
       "       [0.83773404],\n",
       "       [0.64666347],\n",
       "       [0.68026884],\n",
       "       [0.65722516],\n",
       "       [0.65674508],\n",
       "       [0.63898224],\n",
       "       [0.60969755],\n",
       "       [0.51224196],\n",
       "       [0.56265002],\n",
       "       [0.77772444],\n",
       "       [0.7474796 ],\n",
       "       [0.84301488],\n",
       "       [0.7825252 ],\n",
       "       [0.7081133 ],\n",
       "       [0.62025924],\n",
       "       [0.72395583],\n",
       "       [0.71531445],\n",
       "       [0.78732597],\n",
       "       [0.83965434],\n",
       "       [0.79404705],\n",
       "       [0.76668267],\n",
       "       [0.77148344],\n",
       "       [0.81661066],\n",
       "       [0.71051368],\n",
       "       [0.81805089],\n",
       "       [0.7556409 ],\n",
       "       [0.67738838],\n",
       "       [0.78588574],\n",
       "       [0.67738838],\n",
       "       [0.75468075],\n",
       "       [0.65674508],\n",
       "       [0.62361978],\n",
       "       [0.81180989],\n",
       "       [0.66826692],\n",
       "       [0.63370139],\n",
       "       [0.63418147],\n",
       "       [0.58761402],\n",
       "       [0.53912626],\n",
       "       [0.61641863],\n",
       "       [0.54056649],\n",
       "       [0.72299568],\n",
       "       [0.75756121],\n",
       "       [0.80364858],\n",
       "       [0.75276044],\n",
       "       [0.69995199],\n",
       "       [0.76236198],\n",
       "       [0.69131061],\n",
       "       [0.71819491],\n",
       "       [0.59769563],\n",
       "       [0.68410946],\n",
       "       [0.74219875],\n",
       "       [0.74651944],\n",
       "       [0.77100336],\n",
       "       [0.68698992],\n",
       "       [0.79260682],\n",
       "       [0.79116659],\n",
       "       [0.65386462],\n",
       "       [0.76092175],\n",
       "       [0.73163706],\n",
       "       [0.70715314],\n",
       "       [0.71915506],\n",
       "       [0.68362938],\n",
       "       [0.64090254],\n",
       "       [0.72971675],\n",
       "       [0.67402784],\n",
       "       [0.80844935],\n",
       "       [0.68170907],\n",
       "       [0.8674988 ],\n",
       "       [0.58761402],\n",
       "       [0.66586654],\n",
       "       [0.81132981],\n",
       "       [0.85885742],\n",
       "       [0.80700912],\n",
       "       [0.62698032],\n",
       "       [0.81613058],\n",
       "       [0.77100336],\n",
       "       [0.75180029],\n",
       "       [0.64666347],\n",
       "       [0.73595775],\n",
       "       [0.74315891],\n",
       "       [0.79548728],\n",
       "       [0.79980797],\n",
       "       [0.82525204],\n",
       "       [0.73835814],\n",
       "       [0.72299568],\n",
       "       [0.78444551],\n",
       "       [0.70427268],\n",
       "       [0.81517043],\n",
       "       [0.84733557],\n",
       "       [0.84541527],\n",
       "       [0.82141143],\n",
       "       [0.79596735],\n",
       "       [0.74315891],\n",
       "       [0.83389342],\n",
       "       [0.77820451],\n",
       "       [0.83773404],\n",
       "       [0.7868459 ],\n",
       "       [0.9212674 ],\n",
       "       [0.68650984],\n",
       "       [0.92174748],\n",
       "       [0.72827652],\n",
       "       [0.76956313],\n",
       "       [0.97455593],\n",
       "       [0.98367739],\n",
       "       [0.92414786],\n",
       "       [0.85165627],\n",
       "       [0.96303409],\n",
       "       [0.88142103],\n",
       "       [0.8612578 ],\n",
       "       [0.92942871],\n",
       "       [0.84397504],\n",
       "       [0.83005281],\n",
       "       [0.92942871],\n",
       "       [0.7493999 ],\n",
       "       [0.81036966],\n",
       "       [0.96975516],\n",
       "       [0.9150264 ],\n",
       "       [0.81901104],\n",
       "       [0.89582333],\n",
       "       [0.90734518],\n",
       "       [0.78924628],\n",
       "       [0.89534325],\n",
       "       [0.81277004],\n",
       "       [0.77196351],\n",
       "       [0.75996159],\n",
       "       [0.72011522],\n",
       "       [0.75420067],\n",
       "       [0.80940951],\n",
       "       [0.70427268],\n",
       "       [0.66538646],\n",
       "       [0.94911186],\n",
       "       [0.89822372],\n",
       "       [0.93566971],\n",
       "       [0.74555929],\n",
       "       [0.89582333],\n",
       "       [0.8199712 ],\n",
       "       [0.93614978],\n",
       "       [0.90302448],\n",
       "       [1.        ],\n",
       "       [0.90446471],\n",
       "       [0.82765242],\n",
       "       [0.90302448],\n",
       "       [0.80508881],\n",
       "       [0.78588574],\n",
       "       [0.72683629],\n",
       "       [0.94287086],\n",
       "       [0.8819011 ],\n",
       "       [0.92318771],\n",
       "       [0.87085934],\n",
       "       [0.79452712],\n",
       "       [0.88910226],\n",
       "       [0.85549688],\n",
       "       [0.7349976 ],\n",
       "       [0.68410946],\n",
       "       [0.72299568],\n",
       "       [0.77580413],\n",
       "       [0.75132021],\n",
       "       [0.63178108],\n",
       "       [0.71867499],\n",
       "       [0.70907345],\n",
       "       [0.85597696],\n",
       "       [0.89486318],\n",
       "       [0.85837734],\n",
       "       [0.66826692],\n",
       "       [0.90782525],\n",
       "       [0.77148344],\n",
       "       [0.74843975],\n",
       "       [0.69035046],\n",
       "       [0.88286126],\n",
       "       [0.86269803],\n",
       "       [0.83197312],\n",
       "       [0.84205473],\n",
       "       [0.84925588],\n",
       "       [0.75660106],\n",
       "       [0.90302448],\n",
       "       [0.95775324],\n",
       "       [0.85981757],\n",
       "       [0.86269803],\n",
       "       [0.76716275],\n",
       "       [0.78924628],\n",
       "       [0.89582333],\n",
       "       [0.7825252 ],\n",
       "       [0.77340374],\n",
       "       [0.80508881],\n",
       "       [0.77052328],\n",
       "       [0.76764282],\n",
       "       [0.81757081],\n",
       "       [0.68747   ],\n",
       "       [0.60441671],\n",
       "       [0.64138262],\n",
       "       [0.69179069],\n",
       "       [0.66826692],\n",
       "       [0.55448872],\n",
       "       [0.63754201],\n",
       "       [0.62794047],\n",
       "       [0.58953433],\n",
       "       [0.65290446],\n",
       "       [0.64522324],\n",
       "       [0.80028805],\n",
       "       [0.70955353],\n",
       "       [0.70139222],\n",
       "       [0.84541527],\n",
       "       [0.79356697],\n",
       "       [0.78300528],\n",
       "       [0.87133941],\n",
       "       [0.83245319],\n",
       "       [0.90542487],\n",
       "       [0.81277004],\n",
       "       [0.7412386 ],\n",
       "       [0.72011522],\n",
       "       [0.81180989],\n",
       "       [0.85213634],\n",
       "       [0.84493519],\n",
       "       [0.89390302],\n",
       "       [0.84829573],\n",
       "       [0.75756121],\n",
       "       [0.88142103],\n",
       "       [0.61977916],\n",
       "       [0.84205473],\n",
       "       [0.73835814],\n",
       "       [0.70667307],\n",
       "       [0.7225156 ],\n",
       "       [0.76284205],\n",
       "       [0.656265  ],\n",
       "       [0.69659145],\n",
       "       [0.71099376],\n",
       "       [0.67210754],\n",
       "       [0.77292367],\n",
       "       [0.88910226],\n",
       "       [0.89342295],\n",
       "       [0.71483437],\n",
       "       [0.79260682],\n",
       "       [0.92990879],\n",
       "       [0.78156505],\n",
       "       [0.90974556],\n",
       "       [0.9855977 ],\n",
       "       [0.71915506],\n",
       "       [0.92270763],\n",
       "       [0.95007201],\n",
       "       [0.88766203],\n",
       "       [0.85789726],\n",
       "       [0.78156505],\n",
       "       [0.87614018],\n",
       "       [0.80556889],\n",
       "       [0.79356697],\n",
       "       [0.79548728],\n",
       "       [0.7493999 ],\n",
       "       [0.7556409 ],\n",
       "       [0.7618819 ],\n",
       "       [0.68074892],\n",
       "       [0.66538646],\n",
       "       [0.72347576],\n",
       "       [0.57897264],\n",
       "       [0.75900144],\n",
       "       [0.62698032],\n",
       "       [0.64330293],\n",
       "       [0.65722516],\n",
       "       [0.54392703],\n",
       "       [0.6356217 ],\n",
       "       [0.70907345],\n",
       "       [0.82045127],\n",
       "       [0.9068651 ],\n",
       "       [0.79020643],\n",
       "       [0.69851176],\n",
       "       [0.68987038],\n",
       "       [0.59049448],\n",
       "       [0.80076812],\n",
       "       [0.85885742],\n",
       "       [0.79836774],\n",
       "       [0.83965434],\n",
       "       [0.83725396],\n",
       "       [0.69851176],\n",
       "       [0.77100336],\n",
       "       [0.81517043],\n",
       "       [0.86701872],\n",
       "       [0.80892943],\n",
       "       [0.78204513],\n",
       "       [0.73787806],\n",
       "       [0.71339414],\n",
       "       [0.72203553],\n",
       "       [0.85453673],\n",
       "       [0.81853096],\n",
       "       [0.66730677],\n",
       "       [0.7287566 ],\n",
       "       [0.8218915 ],\n",
       "       [0.85645703],\n",
       "       [0.69947192],\n",
       "       [0.70859337],\n",
       "       [0.7681229 ],\n",
       "       [0.8530965 ],\n",
       "       [0.89966395],\n",
       "       [0.75660106],\n",
       "       [0.86269803],\n",
       "       [0.90206433],\n",
       "       [0.69131061],\n",
       "       [0.87950072],\n",
       "       [0.88238118],\n",
       "       [0.83245319],\n",
       "       [0.64522324],\n",
       "       [0.7618819 ],\n",
       "       [0.91886702],\n",
       "       [0.85981757],\n",
       "       [0.74699952],\n",
       "       [0.75660106],\n",
       "       [0.75660106]])"
      ]
     },
     "execution_count": 46,
     "metadata": {},
     "output_type": "execute_result"
    }
   ],
   "source": [
    "y"
   ]
  },
  {
   "cell_type": "code",
   "execution_count": 47,
   "metadata": {},
   "outputs": [],
   "source": [
    "seed = 42\n",
    "X,y = shuffle(X,y, random_state=seed)"
   ]
  },
  {
   "cell_type": "code",
   "execution_count": 48,
   "metadata": {},
   "outputs": [],
   "source": [
    "para = {'C':[0.1,1,100,1000],\n",
    "       'epsilon':[0.0001,0.0005,0.001,0.005,0.01,0.05,0.1,0.5,1,5,10],\n",
    "       'gamma':[0.0001,0.001,0.005,0.1,1,3,5]}"
   ]
  },
  {
   "cell_type": "code",
   "execution_count": 49,
   "metadata": {},
   "outputs": [],
   "source": [
    "gsc = GridSearchCV(estimator=SVR(kernel='rbf'),param_grid=para,cv=5, scoring='neg_mean_squared_error', verbose=0, n_jobs=-1)"
   ]
  },
  {
   "cell_type": "code",
   "execution_count": 50,
   "metadata": {},
   "outputs": [],
   "source": [
    "from sklearn.model_selection import train_test_split"
   ]
  },
  {
   "cell_type": "code",
   "execution_count": 51,
   "metadata": {},
   "outputs": [],
   "source": [
    "X_train,X_test,y_train,y_test = train_test_split(X,y,test_size=0.3)"
   ]
  },
  {
   "cell_type": "code",
   "execution_count": 52,
   "metadata": {},
   "outputs": [
    {
     "name": "stderr",
     "output_type": "stream",
     "text": [
      "C:\\Users\\tiwar\\Anaconda3\\lib\\site-packages\\sklearn\\utils\\validation.py:578: DataConversionWarning: A column-vector y was passed when a 1d array was expected. Please change the shape of y to (n_samples, ), for example using ravel().\n",
      "  y = column_or_1d(y, warn=True)\n"
     ]
    }
   ],
   "source": [
    "# grid_result = gsc.fit(X_train,y_train)\n",
    "grid_result = gsc.fit(X,y)"
   ]
  },
  {
   "cell_type": "code",
   "execution_count": 52,
   "metadata": {},
   "outputs": [
    {
     "name": "stdout",
     "output_type": "stream",
     "text": [
      "{'C': 100, 'epsilon': 0.01, 'gamma': 0.1}\n"
     ]
    }
   ],
   "source": [
    "best_params = grid_result.best_params_\n",
    "best_predict = grid_result.predict(X_test)\n",
    "# print(best_predict)\n",
    "print(best_params)"
   ]
  },
  {
   "cell_type": "code",
   "execution_count": 53,
   "metadata": {},
   "outputs": [],
   "source": [
    "best_svr = SVR(kernel='rbf',C=best_params['C'],epsilon=best_params['epsilon'],\n",
    "              gamma=best_params['gamma'],coef0=0.1)"
   ]
  },
  {
   "cell_type": "code",
   "execution_count": 54,
   "metadata": {},
   "outputs": [],
   "source": [
    "scoring = {'abs_eror':'neg_mean_absolute_error',\n",
    "          'squared_error':'neg_mean_squared_error'}"
   ]
  },
  {
   "cell_type": "code",
   "execution_count": 55,
   "metadata": {},
   "outputs": [
    {
     "name": "stderr",
     "output_type": "stream",
     "text": [
      "C:\\Users\\tiwar\\Anaconda3\\lib\\site-packages\\sklearn\\utils\\validation.py:578: DataConversionWarning: A column-vector y was passed when a 1d array was expected. Please change the shape of y to (n_samples, ), for example using ravel().\n",
      "  y = column_or_1d(y, warn=True)\n",
      "C:\\Users\\tiwar\\Anaconda3\\lib\\site-packages\\sklearn\\utils\\validation.py:578: DataConversionWarning: A column-vector y was passed when a 1d array was expected. Please change the shape of y to (n_samples, ), for example using ravel().\n",
      "  y = column_or_1d(y, warn=True)\n",
      "C:\\Users\\tiwar\\Anaconda3\\lib\\site-packages\\sklearn\\utils\\validation.py:578: DataConversionWarning: A column-vector y was passed when a 1d array was expected. Please change the shape of y to (n_samples, ), for example using ravel().\n",
      "  y = column_or_1d(y, warn=True)\n",
      "C:\\Users\\tiwar\\Anaconda3\\lib\\site-packages\\sklearn\\utils\\validation.py:578: DataConversionWarning: A column-vector y was passed when a 1d array was expected. Please change the shape of y to (n_samples, ), for example using ravel().\n",
      "  y = column_or_1d(y, warn=True)\n",
      "C:\\Users\\tiwar\\Anaconda3\\lib\\site-packages\\sklearn\\utils\\validation.py:578: DataConversionWarning: A column-vector y was passed when a 1d array was expected. Please change the shape of y to (n_samples, ), for example using ravel().\n",
      "  y = column_or_1d(y, warn=True)\n",
      "C:\\Users\\tiwar\\Anaconda3\\lib\\site-packages\\sklearn\\utils\\validation.py:578: DataConversionWarning: A column-vector y was passed when a 1d array was expected. Please change the shape of y to (n_samples, ), for example using ravel().\n",
      "  y = column_or_1d(y, warn=True)\n",
      "C:\\Users\\tiwar\\Anaconda3\\lib\\site-packages\\sklearn\\utils\\validation.py:578: DataConversionWarning: A column-vector y was passed when a 1d array was expected. Please change the shape of y to (n_samples, ), for example using ravel().\n",
      "  y = column_or_1d(y, warn=True)\n",
      "C:\\Users\\tiwar\\Anaconda3\\lib\\site-packages\\sklearn\\utils\\validation.py:578: DataConversionWarning: A column-vector y was passed when a 1d array was expected. Please change the shape of y to (n_samples, ), for example using ravel().\n",
      "  y = column_or_1d(y, warn=True)\n",
      "C:\\Users\\tiwar\\Anaconda3\\lib\\site-packages\\sklearn\\utils\\validation.py:578: DataConversionWarning: A column-vector y was passed when a 1d array was expected. Please change the shape of y to (n_samples, ), for example using ravel().\n",
      "  y = column_or_1d(y, warn=True)\n",
      "C:\\Users\\tiwar\\Anaconda3\\lib\\site-packages\\sklearn\\utils\\validation.py:578: DataConversionWarning: A column-vector y was passed when a 1d array was expected. Please change the shape of y to (n_samples, ), for example using ravel().\n",
      "  y = column_or_1d(y, warn=True)\n"
     ]
    }
   ],
   "source": [
    "scores = cross_validate(best_svr,X,y,cv=10,scoring=scoring,return_train_score=True)"
   ]
  },
  {
   "cell_type": "code",
   "execution_count": 56,
   "metadata": {},
   "outputs": [
    {
     "data": {
      "text/plain": [
       "{'fit_time': array([0.11140418, 0.12731481, 0.09306407, 0.13558006, 0.11624813,\n",
       "        0.09972787, 0.1038363 , 0.10823154, 0.10237813, 0.1038959 ]),\n",
       " 'score_time': array([0.00444913, 0.00343275, 0.        , 0.00503445, 0.00098681,\n",
       "        0.        , 0.        , 0.00523186, 0.        , 0.        ]),\n",
       " 'test_abs_eror': array([-0.03386116, -0.03662611, -0.03578544, -0.0468251 , -0.03768729,\n",
       "        -0.03356286, -0.04341665, -0.04142331, -0.03735734, -0.03756094]),\n",
       " 'train_abs_eror': array([-0.03663888, -0.03634262, -0.03659444, -0.03524163, -0.03633526,\n",
       "        -0.03679312, -0.03560157, -0.03590873, -0.03630387, -0.0361898 ]),\n",
       " 'test_squared_error': array([-0.00194831, -0.00216565, -0.00189734, -0.00410446, -0.00252397,\n",
       "        -0.00174157, -0.00580637, -0.00308694, -0.00249884, -0.00219195]),\n",
       " 'train_squared_error': array([-0.00266549, -0.00263932, -0.00269593, -0.00243612, -0.00260949,\n",
       "        -0.00270679, -0.00225621, -0.00255497, -0.0026268 , -0.0026378 ])}"
      ]
     },
     "execution_count": 56,
     "metadata": {},
     "output_type": "execute_result"
    }
   ],
   "source": [
    "scores"
   ]
  },
  {
   "cell_type": "code",
   "execution_count": 57,
   "metadata": {},
   "outputs": [
    {
     "data": {
      "text/plain": [
       "0.03841061855140569"
      ]
     },
     "execution_count": 57,
     "metadata": {},
     "output_type": "execute_result"
    }
   ],
   "source": [
    "abs(scores['test_abs_eror'].mean())"
   ]
  },
  {
   "cell_type": "code",
   "execution_count": 58,
   "metadata": {},
   "outputs": [
    {
     "data": {
      "text/plain": [
       "0.05288231510637928"
      ]
     },
     "execution_count": 58,
     "metadata": {},
     "output_type": "execute_result"
    }
   ],
   "source": [
    "math.sqrt(abs(scores['test_squared_error'].mean()))"
   ]
  },
  {
   "cell_type": "code",
   "execution_count": 59,
   "metadata": {},
   "outputs": [
    {
     "name": "stderr",
     "output_type": "stream",
     "text": [
      "C:\\Users\\tiwar\\Anaconda3\\lib\\site-packages\\sklearn\\utils\\validation.py:578: DataConversionWarning: A column-vector y was passed when a 1d array was expected. Please change the shape of y to (n_samples, ), for example using ravel().\n",
      "  y = column_or_1d(y, warn=True)\n"
     ]
    },
    {
     "data": {
      "text/plain": [
       "SVR(C=100, cache_size=200, coef0=0.1, degree=3, epsilon=0.01, gamma=0.1,\n",
       "  kernel='rbf', max_iter=-1, shrinking=True, tol=0.001, verbose=False)"
      ]
     },
     "execution_count": 59,
     "metadata": {},
     "output_type": "execute_result"
    }
   ],
   "source": [
    "best_svr.fit(X_train,y_train)"
   ]
  },
  {
   "cell_type": "code",
   "execution_count": 60,
   "metadata": {},
   "outputs": [],
   "source": [
    "pred = best_svr.predict(X_test)\n",
    "# print(pred)"
   ]
  },
  {
   "cell_type": "code",
   "execution_count": 61,
   "metadata": {},
   "outputs": [
    {
     "data": {
      "text/plain": [
       "0.9231241564467731"
      ]
     },
     "execution_count": 61,
     "metadata": {},
     "output_type": "execute_result"
    }
   ],
   "source": [
    "best_svr.score(X_test,y_test)"
   ]
  },
  {
   "cell_type": "code",
   "execution_count": 62,
   "metadata": {},
   "outputs": [],
   "source": [
    "from sklearn.metrics import r2_score"
   ]
  },
  {
   "cell_type": "code",
   "execution_count": 63,
   "metadata": {},
   "outputs": [
    {
     "data": {
      "text/plain": [
       "0.9271751764058141"
      ]
     },
     "execution_count": 63,
     "metadata": {},
     "output_type": "execute_result"
    }
   ],
   "source": [
    "r2_score(y_test,best_predict)"
   ]
  },
  {
   "cell_type": "code",
   "execution_count": 64,
   "metadata": {},
   "outputs": [],
   "source": [
    "# best_predict.reshape(-1,1)"
   ]
  },
  {
   "cell_type": "code",
   "execution_count": 94,
   "metadata": {},
   "outputs": [],
   "source": [
    "bus=1750\n",
    "multi=114\n",
    "day=2\n",
    "month=11\n",
    "year=1995"
   ]
  },
  {
   "cell_type": "code",
   "execution_count": 95,
   "metadata": {},
   "outputs": [],
   "source": [
    "ans= best_svr.predict(scaler.transform(np.array([[bus,multi,day,month,year]])))"
   ]
  },
  {
   "cell_type": "code",
   "execution_count": 96,
   "metadata": {},
   "outputs": [],
   "source": [
    "ans=1+ans"
   ]
  },
  {
   "cell_type": "code",
   "execution_count": 97,
   "metadata": {},
   "outputs": [],
   "source": [
    "y_pred = scaler.inverse_transform([ans])"
   ]
  },
  {
   "cell_type": "code",
   "execution_count": 98,
   "metadata": {},
   "outputs": [
    {
     "data": {
      "text/plain": [
       "array([[2762.80530884]])"
      ]
     },
     "execution_count": 98,
     "metadata": {},
     "output_type": "execute_result"
    }
   ],
   "source": [
    "y_pred"
   ]
  },
  {
   "cell_type": "code",
   "execution_count": 276,
   "metadata": {},
   "outputs": [],
   "source": [
    "# plt.scatter(pd.date_range('11/01/1995','31/12/1997'), data1.iloc[:,0], color='darkorange', label='data')\n",
    "# plt.hold('on')\n",
    "# plt.plot(pd.date_range('11/01/1995','31/12/1997',best_predict, color='navy', lw=lw, label='RBF model')\n",
    "# plt.xlabel('data')\n",
    "# plt.ylabel('target')\n",
    "# plt.title('Support Vector Regression')\n",
    "# plt.legend()\n",
    "# plt.show()"
   ]
  },
  {
   "cell_type": "code",
   "execution_count": null,
   "metadata": {},
   "outputs": [],
   "source": []
  }
 ],
 "metadata": {
  "kernelspec": {
   "display_name": "Python 3",
   "language": "python",
   "name": "python3"
  },
  "language_info": {
   "codemirror_mode": {
    "name": "ipython",
    "version": 3
   },
   "file_extension": ".py",
   "mimetype": "text/x-python",
   "name": "python",
   "nbconvert_exporter": "python",
   "pygments_lexer": "ipython3",
   "version": "3.6.5"
  }
 },
 "nbformat": 4,
 "nbformat_minor": 2
}
